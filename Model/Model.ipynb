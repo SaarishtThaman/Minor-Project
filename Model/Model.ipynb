{
  "nbformat": 4,
  "nbformat_minor": 0,
  "metadata": {
    "colab": {
      "name": "Model.ipynb",
      "provenance": []
    },
    "kernelspec": {
      "name": "python3",
      "display_name": "Python 3"
    }
  },
  "cells": [
    {
      "cell_type": "code",
      "metadata": {
        "id": "GmknoGBMkFQF"
      },
      "source": [
        "import tensorflow as tf\n",
        "import h5py\n",
        "import shutil\n",
        "import numpy as np\n",
        "from torch.utils.data import DataLoader\n",
        "import keras\n",
        "from tqdm.notebook import tqdm\n",
        "from keras.models import Sequential\n",
        "from keras.layers import Dense, Flatten, Conv3D, Dropout, MaxPooling3D,MaxPooling2D\n",
        "from keras.utils import to_categorical\n",
        "from tensorflow.keras.callbacks import ModelCheckpoint\n",
        "from keras.utils.vis_utils import plot_model\n",
        "from sklearn.model_selection import train_test_split\n",
        "from keras.layers import Conv2D,Dropout\n",
        "from keras.layers import Activation,Average\n",
        "from keras.layers import GlobalAveragePooling2D,BatchNormalization\n",
        "from keras.optimizers import Adam\n",
        "import time\n",
        "import collections\n",
        "from keras.losses import categorical_crossentropy"
      ],
      "execution_count": null,
      "outputs": []
    },
    {
      "cell_type": "markdown",
      "metadata": {
        "id": "k8ddE8dPkHI9"
      },
      "source": [
        "ConvPool_CNN Model "
      ]
    },
    {
      "cell_type": "code",
      "metadata": {
        "id": "_8K3nznhkFTo"
      },
      "source": [
        "def ConvPool_CNN_C():\n",
        "  model = Sequential()\n",
        "  model.add(Conv2D(96,kernel_size=(3,3),activation='relu',padding='same'))\n",
        "  model.add(Conv2D(96,kernel_size=(3,3),activation='relu',padding='same'))\n",
        "  model.add(Conv2D(96,kernel_size=(3,3),activation='relu',padding='same'))\n",
        "  model.add(MaxPooling2D(pool_size=(3,3),strides=2))\n",
        "  model.add(Conv2D(192,(3,3),activation='relu',padding='same'))\n",
        "  model.add(Conv2D(192,(3,3),activation='relu',padding='same'))\n",
        "  model.add(Conv2D(192,(3,3),activation='relu',padding='same'))\n",
        "  model.add(MaxPooling2D(pool_size=(3,3),strides=2))\n",
        "  model.add(Conv2D(192,(3,3),activation='relu',padding='same'))\n",
        "  model.add(Conv2D(192,(1,1),activation='relu'))\n",
        "  model.add(Conv2D(5,(1,1)))\n",
        "  model.add(GlobalAveragePooling2D())\n",
        "  model.add(Flatten())\n",
        "  model.add(Dense(5, activation='softmax'))\n",
        "  model.build(input_shape)\n",
        "  model.compile(loss=categorical_crossentropy,optimizer=keras.optimizers.Adam(0.001),metrics=['accuracy'])\n",
        "  return model"
      ],
      "execution_count": null,
      "outputs": []
    },
    {
      "cell_type": "markdown",
      "metadata": {
        "id": "0PQSoohzmbrX"
      },
      "source": [
        "ALL_CNN_MODEL"
      ]
    },
    {
      "cell_type": "code",
      "metadata": {
        "id": "YjSqZvUbkFOj"
      },
      "source": [
        "def all_cnn_c(X,y,learningRate=0.001,lossFunction='categorical_crossentropy'):\n",
        "  model = Sequential()\n",
        "  model.add(Conv2D(96,kernel_size=(3,3),activation='relu',padding='same'))\n",
        "  model.add(Conv2D(96,kernel_size=(3,3),activation='relu',padding='same'))\n",
        "  model.add(Conv2D(96,kernel_size=(3,3),activation='relu',padding='same'))\n",
        "  model.add(Conv2D(192,(3,3),activation='relu',padding='same'))\n",
        "  model.add(Conv2D(192,(3,3),activation='relu',padding='same'))\n",
        "  model.add(Conv2D(192,(3,3),activation='relu',padding='same'))\n",
        "  model.add(Conv2D(192,(3,3),activation='relu',padding='same'))\n",
        "  model.add(Conv2D(192,(1,1),activation='relu'))\n",
        "  model.add(GlobalAveragePooling2D())\n",
        "  model.add(Dense(5, activation='softmax'))\n",
        "  model.build(input_shape)\n",
        "  model.compile(loss=categorical_crossentropy,optimizer=Adam(0.001),metrics=['accuracy'])\n",
        "\n",
        "  return model"
      ],
      "execution_count": null,
      "outputs": []
    },
    {
      "cell_type": "markdown",
      "metadata": {
        "id": "qlHG2_lzmfSA"
      },
      "source": [
        "NIN_CNN_MODEL"
      ]
    },
    {
      "cell_type": "code",
      "metadata": {
        "id": "qI_SzlwFk-f8"
      },
      "source": [
        "def nin_cnn_c():\n",
        "  model = Sequential()\n",
        "  model.add(Conv2D(32,kernel_size=(5,5),activation='relu',padding='valid'))\n",
        "  model.add(Conv2D(32,kernel_size=(5,5),activation='relu'))\n",
        "  model.add(Conv2D(32,kernel_size=(5,5),activation='relu'))\n",
        "  model.add(MaxPooling2D(pool_size=(3,3),strides=2))\n",
        "  model.add(Dropout(0.5))\n",
        "  model.add(Conv2D(64,(3,3),activation='relu',padding='same'))\n",
        "  model.add(Conv2D(64,(1,1),activation='relu',padding='same'))\n",
        "  model.add(Conv2D(64,(1,1),activation='relu',padding='same'))\n",
        "  model.add(MaxPooling2D(pool_size=(3,3),strides=2))\n",
        "  model.add(Dropout(0.5))\n",
        "  model.add(Conv2D(128,(3,3),activation='relu',padding='same'))\n",
        "  model.add(Conv2D(32,(1,1),activation='relu'))\n",
        "  model.add(Conv2D(5,(1,1)))\n",
        "  model.add(GlobalAveragePooling2D())\n",
        "  model.add(Flatten())\n",
        "  model.add(Dense(5, activation='softmax'))\n",
        "  model.build(input_shape)\n",
        "  \n",
        "  model.compile(loss=categorical_crossentropy,optimizer=Adam(0.001),metrics=['accuracy'])\n",
        "  return model"
      ],
      "execution_count": null,
      "outputs": []
    },
    {
      "cell_type": "code",
      "metadata": {
        "id": "YtmwlsVqlFgl"
      },
      "source": [
        ""
      ],
      "execution_count": null,
      "outputs": []
    }
  ]
}