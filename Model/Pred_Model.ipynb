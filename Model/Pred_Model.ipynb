{
  "nbformat": 4,
  "nbformat_minor": 0,
  "metadata": {
    "colab": {
      "name": "Pred_Model",
      "provenance": [],
      "collapsed_sections": [],
      "authorship_tag": "ABX9TyPyDXeKjVodPpYCiYxrjGcf",
      "include_colab_link": true
    },
    "kernelspec": {
      "name": "python3",
      "display_name": "Python 3"
    },
    "accelerator": "GPU",
    "widgets": {
      "application/vnd.jupyter.widget-state+json": {
        "8a885ddc580e4b66b461cb55820d924c": {
          "model_module": "@jupyter-widgets/controls",
          "model_name": "HBoxModel",
          "state": {
            "_view_name": "HBoxView",
            "_dom_classes": [],
            "_model_name": "HBoxModel",
            "_view_module": "@jupyter-widgets/controls",
            "_model_module_version": "1.5.0",
            "_view_count": null,
            "_view_module_version": "1.5.0",
            "box_style": "",
            "layout": "IPY_MODEL_9f0a2ec5200a47f2a1f9e42fb572a57c",
            "_model_module": "@jupyter-widgets/controls",
            "children": [
              "IPY_MODEL_d13269797d554905a22ff232356620c4",
              "IPY_MODEL_9ba0d877d60a48fca028239a093912b3"
            ]
          }
        },
        "9f0a2ec5200a47f2a1f9e42fb572a57c": {
          "model_module": "@jupyter-widgets/base",
          "model_name": "LayoutModel",
          "state": {
            "_view_name": "LayoutView",
            "grid_template_rows": null,
            "right": null,
            "justify_content": null,
            "_view_module": "@jupyter-widgets/base",
            "overflow": null,
            "_model_module_version": "1.2.0",
            "_view_count": null,
            "flex_flow": null,
            "width": null,
            "min_width": null,
            "border": null,
            "align_items": null,
            "bottom": null,
            "_model_module": "@jupyter-widgets/base",
            "top": null,
            "grid_column": null,
            "overflow_y": null,
            "overflow_x": null,
            "grid_auto_flow": null,
            "grid_area": null,
            "grid_template_columns": null,
            "flex": null,
            "_model_name": "LayoutModel",
            "justify_items": null,
            "grid_row": null,
            "max_height": null,
            "align_content": null,
            "visibility": null,
            "align_self": null,
            "height": null,
            "min_height": null,
            "padding": null,
            "grid_auto_rows": null,
            "grid_gap": null,
            "max_width": null,
            "order": null,
            "_view_module_version": "1.2.0",
            "grid_template_areas": null,
            "object_position": null,
            "object_fit": null,
            "grid_auto_columns": null,
            "margin": null,
            "display": null,
            "left": null
          }
        },
        "d13269797d554905a22ff232356620c4": {
          "model_module": "@jupyter-widgets/controls",
          "model_name": "FloatProgressModel",
          "state": {
            "_view_name": "ProgressView",
            "style": "IPY_MODEL_088b08758504490382324913508c00aa",
            "_dom_classes": [],
            "description": "100%",
            "_model_name": "FloatProgressModel",
            "bar_style": "success",
            "max": 226,
            "_view_module": "@jupyter-widgets/controls",
            "_model_module_version": "1.5.0",
            "value": 226,
            "_view_count": null,
            "_view_module_version": "1.5.0",
            "orientation": "horizontal",
            "min": 0,
            "description_tooltip": null,
            "_model_module": "@jupyter-widgets/controls",
            "layout": "IPY_MODEL_ab18bdc1431b48fbbf3e19d552b4a123"
          }
        },
        "9ba0d877d60a48fca028239a093912b3": {
          "model_module": "@jupyter-widgets/controls",
          "model_name": "HTMLModel",
          "state": {
            "_view_name": "HTMLView",
            "style": "IPY_MODEL_e1de8d03ddb04b0592884c829b6286db",
            "_dom_classes": [],
            "description": "",
            "_model_name": "HTMLModel",
            "placeholder": "​",
            "_view_module": "@jupyter-widgets/controls",
            "_model_module_version": "1.5.0",
            "value": " 226/226 [03:56&lt;00:00,  1.05s/it]",
            "_view_count": null,
            "_view_module_version": "1.5.0",
            "description_tooltip": null,
            "_model_module": "@jupyter-widgets/controls",
            "layout": "IPY_MODEL_4a7e70c8b871498abdddc94c43136547"
          }
        },
        "088b08758504490382324913508c00aa": {
          "model_module": "@jupyter-widgets/controls",
          "model_name": "ProgressStyleModel",
          "state": {
            "_view_name": "StyleView",
            "_model_name": "ProgressStyleModel",
            "description_width": "initial",
            "_view_module": "@jupyter-widgets/base",
            "_model_module_version": "1.5.0",
            "_view_count": null,
            "_view_module_version": "1.2.0",
            "bar_color": null,
            "_model_module": "@jupyter-widgets/controls"
          }
        },
        "ab18bdc1431b48fbbf3e19d552b4a123": {
          "model_module": "@jupyter-widgets/base",
          "model_name": "LayoutModel",
          "state": {
            "_view_name": "LayoutView",
            "grid_template_rows": null,
            "right": null,
            "justify_content": null,
            "_view_module": "@jupyter-widgets/base",
            "overflow": null,
            "_model_module_version": "1.2.0",
            "_view_count": null,
            "flex_flow": null,
            "width": null,
            "min_width": null,
            "border": null,
            "align_items": null,
            "bottom": null,
            "_model_module": "@jupyter-widgets/base",
            "top": null,
            "grid_column": null,
            "overflow_y": null,
            "overflow_x": null,
            "grid_auto_flow": null,
            "grid_area": null,
            "grid_template_columns": null,
            "flex": null,
            "_model_name": "LayoutModel",
            "justify_items": null,
            "grid_row": null,
            "max_height": null,
            "align_content": null,
            "visibility": null,
            "align_self": null,
            "height": null,
            "min_height": null,
            "padding": null,
            "grid_auto_rows": null,
            "grid_gap": null,
            "max_width": null,
            "order": null,
            "_view_module_version": "1.2.0",
            "grid_template_areas": null,
            "object_position": null,
            "object_fit": null,
            "grid_auto_columns": null,
            "margin": null,
            "display": null,
            "left": null
          }
        },
        "e1de8d03ddb04b0592884c829b6286db": {
          "model_module": "@jupyter-widgets/controls",
          "model_name": "DescriptionStyleModel",
          "state": {
            "_view_name": "StyleView",
            "_model_name": "DescriptionStyleModel",
            "description_width": "",
            "_view_module": "@jupyter-widgets/base",
            "_model_module_version": "1.5.0",
            "_view_count": null,
            "_view_module_version": "1.2.0",
            "_model_module": "@jupyter-widgets/controls"
          }
        },
        "4a7e70c8b871498abdddc94c43136547": {
          "model_module": "@jupyter-widgets/base",
          "model_name": "LayoutModel",
          "state": {
            "_view_name": "LayoutView",
            "grid_template_rows": null,
            "right": null,
            "justify_content": null,
            "_view_module": "@jupyter-widgets/base",
            "overflow": null,
            "_model_module_version": "1.2.0",
            "_view_count": null,
            "flex_flow": null,
            "width": null,
            "min_width": null,
            "border": null,
            "align_items": null,
            "bottom": null,
            "_model_module": "@jupyter-widgets/base",
            "top": null,
            "grid_column": null,
            "overflow_y": null,
            "overflow_x": null,
            "grid_auto_flow": null,
            "grid_area": null,
            "grid_template_columns": null,
            "flex": null,
            "_model_name": "LayoutModel",
            "justify_items": null,
            "grid_row": null,
            "max_height": null,
            "align_content": null,
            "visibility": null,
            "align_self": null,
            "height": null,
            "min_height": null,
            "padding": null,
            "grid_auto_rows": null,
            "grid_gap": null,
            "max_width": null,
            "order": null,
            "_view_module_version": "1.2.0",
            "grid_template_areas": null,
            "object_position": null,
            "object_fit": null,
            "grid_auto_columns": null,
            "margin": null,
            "display": null,
            "left": null
          }
        },
        "250573cb7a244404a1678b3c18e89a12": {
          "model_module": "@jupyter-widgets/controls",
          "model_name": "HBoxModel",
          "state": {
            "_view_name": "HBoxView",
            "_dom_classes": [],
            "_model_name": "HBoxModel",
            "_view_module": "@jupyter-widgets/controls",
            "_model_module_version": "1.5.0",
            "_view_count": null,
            "_view_module_version": "1.5.0",
            "box_style": "",
            "layout": "IPY_MODEL_654886190c3648ae91b88e5f4cdd997d",
            "_model_module": "@jupyter-widgets/controls",
            "children": [
              "IPY_MODEL_732aea01f29e4452a81cdb3f539110a0",
              "IPY_MODEL_5377c93f335d4e52b7b4f12622c858c6"
            ]
          }
        },
        "654886190c3648ae91b88e5f4cdd997d": {
          "model_module": "@jupyter-widgets/base",
          "model_name": "LayoutModel",
          "state": {
            "_view_name": "LayoutView",
            "grid_template_rows": null,
            "right": null,
            "justify_content": null,
            "_view_module": "@jupyter-widgets/base",
            "overflow": null,
            "_model_module_version": "1.2.0",
            "_view_count": null,
            "flex_flow": null,
            "width": null,
            "min_width": null,
            "border": null,
            "align_items": null,
            "bottom": null,
            "_model_module": "@jupyter-widgets/base",
            "top": null,
            "grid_column": null,
            "overflow_y": null,
            "overflow_x": null,
            "grid_auto_flow": null,
            "grid_area": null,
            "grid_template_columns": null,
            "flex": null,
            "_model_name": "LayoutModel",
            "justify_items": null,
            "grid_row": null,
            "max_height": null,
            "align_content": null,
            "visibility": null,
            "align_self": null,
            "height": null,
            "min_height": null,
            "padding": null,
            "grid_auto_rows": null,
            "grid_gap": null,
            "max_width": null,
            "order": null,
            "_view_module_version": "1.2.0",
            "grid_template_areas": null,
            "object_position": null,
            "object_fit": null,
            "grid_auto_columns": null,
            "margin": null,
            "display": null,
            "left": null
          }
        },
        "732aea01f29e4452a81cdb3f539110a0": {
          "model_module": "@jupyter-widgets/controls",
          "model_name": "FloatProgressModel",
          "state": {
            "_view_name": "ProgressView",
            "style": "IPY_MODEL_8b6438f3e0c94d71aa0b812936c9d051",
            "_dom_classes": [],
            "description": "100%",
            "_model_name": "FloatProgressModel",
            "bar_style": "success",
            "max": 111,
            "_view_module": "@jupyter-widgets/controls",
            "_model_module_version": "1.5.0",
            "value": 111,
            "_view_count": null,
            "_view_module_version": "1.5.0",
            "orientation": "horizontal",
            "min": 0,
            "description_tooltip": null,
            "_model_module": "@jupyter-widgets/controls",
            "layout": "IPY_MODEL_36224879c42e467d9d3af7e40f8ef399"
          }
        },
        "5377c93f335d4e52b7b4f12622c858c6": {
          "model_module": "@jupyter-widgets/controls",
          "model_name": "HTMLModel",
          "state": {
            "_view_name": "HTMLView",
            "style": "IPY_MODEL_c2f7515ab774471595434d0b8ff5e18c",
            "_dom_classes": [],
            "description": "",
            "_model_name": "HTMLModel",
            "placeholder": "​",
            "_view_module": "@jupyter-widgets/controls",
            "_model_module_version": "1.5.0",
            "value": " 111/111 [00:00&lt;00:00, 403.45it/s]",
            "_view_count": null,
            "_view_module_version": "1.5.0",
            "description_tooltip": null,
            "_model_module": "@jupyter-widgets/controls",
            "layout": "IPY_MODEL_c58b905f8b1f4826bb4a554ae4d6fab4"
          }
        },
        "8b6438f3e0c94d71aa0b812936c9d051": {
          "model_module": "@jupyter-widgets/controls",
          "model_name": "ProgressStyleModel",
          "state": {
            "_view_name": "StyleView",
            "_model_name": "ProgressStyleModel",
            "description_width": "initial",
            "_view_module": "@jupyter-widgets/base",
            "_model_module_version": "1.5.0",
            "_view_count": null,
            "_view_module_version": "1.2.0",
            "bar_color": null,
            "_model_module": "@jupyter-widgets/controls"
          }
        },
        "36224879c42e467d9d3af7e40f8ef399": {
          "model_module": "@jupyter-widgets/base",
          "model_name": "LayoutModel",
          "state": {
            "_view_name": "LayoutView",
            "grid_template_rows": null,
            "right": null,
            "justify_content": null,
            "_view_module": "@jupyter-widgets/base",
            "overflow": null,
            "_model_module_version": "1.2.0",
            "_view_count": null,
            "flex_flow": null,
            "width": null,
            "min_width": null,
            "border": null,
            "align_items": null,
            "bottom": null,
            "_model_module": "@jupyter-widgets/base",
            "top": null,
            "grid_column": null,
            "overflow_y": null,
            "overflow_x": null,
            "grid_auto_flow": null,
            "grid_area": null,
            "grid_template_columns": null,
            "flex": null,
            "_model_name": "LayoutModel",
            "justify_items": null,
            "grid_row": null,
            "max_height": null,
            "align_content": null,
            "visibility": null,
            "align_self": null,
            "height": null,
            "min_height": null,
            "padding": null,
            "grid_auto_rows": null,
            "grid_gap": null,
            "max_width": null,
            "order": null,
            "_view_module_version": "1.2.0",
            "grid_template_areas": null,
            "object_position": null,
            "object_fit": null,
            "grid_auto_columns": null,
            "margin": null,
            "display": null,
            "left": null
          }
        },
        "c2f7515ab774471595434d0b8ff5e18c": {
          "model_module": "@jupyter-widgets/controls",
          "model_name": "DescriptionStyleModel",
          "state": {
            "_view_name": "StyleView",
            "_model_name": "DescriptionStyleModel",
            "description_width": "",
            "_view_module": "@jupyter-widgets/base",
            "_model_module_version": "1.5.0",
            "_view_count": null,
            "_view_module_version": "1.2.0",
            "_model_module": "@jupyter-widgets/controls"
          }
        },
        "c58b905f8b1f4826bb4a554ae4d6fab4": {
          "model_module": "@jupyter-widgets/base",
          "model_name": "LayoutModel",
          "state": {
            "_view_name": "LayoutView",
            "grid_template_rows": null,
            "right": null,
            "justify_content": null,
            "_view_module": "@jupyter-widgets/base",
            "overflow": null,
            "_model_module_version": "1.2.0",
            "_view_count": null,
            "flex_flow": null,
            "width": null,
            "min_width": null,
            "border": null,
            "align_items": null,
            "bottom": null,
            "_model_module": "@jupyter-widgets/base",
            "top": null,
            "grid_column": null,
            "overflow_y": null,
            "overflow_x": null,
            "grid_auto_flow": null,
            "grid_area": null,
            "grid_template_columns": null,
            "flex": null,
            "_model_name": "LayoutModel",
            "justify_items": null,
            "grid_row": null,
            "max_height": null,
            "align_content": null,
            "visibility": null,
            "align_self": null,
            "height": null,
            "min_height": null,
            "padding": null,
            "grid_auto_rows": null,
            "grid_gap": null,
            "max_width": null,
            "order": null,
            "_view_module_version": "1.2.0",
            "grid_template_areas": null,
            "object_position": null,
            "object_fit": null,
            "grid_auto_columns": null,
            "margin": null,
            "display": null,
            "left": null
          }
        },
        "7b688b6a95f741c9a37406cc84932eb3": {
          "model_module": "@jupyter-widgets/controls",
          "model_name": "HBoxModel",
          "state": {
            "_view_name": "HBoxView",
            "_dom_classes": [],
            "_model_name": "HBoxModel",
            "_view_module": "@jupyter-widgets/controls",
            "_model_module_version": "1.5.0",
            "_view_count": null,
            "_view_module_version": "1.5.0",
            "box_style": "",
            "layout": "IPY_MODEL_1b135e0878f743329383159a0ed47ec3",
            "_model_module": "@jupyter-widgets/controls",
            "children": [
              "IPY_MODEL_3e6542d78a2b4251ae7c21badf9d1e56",
              "IPY_MODEL_7f4c798308ec46c592a5633d58215338"
            ]
          }
        },
        "1b135e0878f743329383159a0ed47ec3": {
          "model_module": "@jupyter-widgets/base",
          "model_name": "LayoutModel",
          "state": {
            "_view_name": "LayoutView",
            "grid_template_rows": null,
            "right": null,
            "justify_content": null,
            "_view_module": "@jupyter-widgets/base",
            "overflow": null,
            "_model_module_version": "1.2.0",
            "_view_count": null,
            "flex_flow": null,
            "width": null,
            "min_width": null,
            "border": null,
            "align_items": null,
            "bottom": null,
            "_model_module": "@jupyter-widgets/base",
            "top": null,
            "grid_column": null,
            "overflow_y": null,
            "overflow_x": null,
            "grid_auto_flow": null,
            "grid_area": null,
            "grid_template_columns": null,
            "flex": null,
            "_model_name": "LayoutModel",
            "justify_items": null,
            "grid_row": null,
            "max_height": null,
            "align_content": null,
            "visibility": null,
            "align_self": null,
            "height": null,
            "min_height": null,
            "padding": null,
            "grid_auto_rows": null,
            "grid_gap": null,
            "max_width": null,
            "order": null,
            "_view_module_version": "1.2.0",
            "grid_template_areas": null,
            "object_position": null,
            "object_fit": null,
            "grid_auto_columns": null,
            "margin": null,
            "display": null,
            "left": null
          }
        },
        "3e6542d78a2b4251ae7c21badf9d1e56": {
          "model_module": "@jupyter-widgets/controls",
          "model_name": "FloatProgressModel",
          "state": {
            "_view_name": "ProgressView",
            "style": "IPY_MODEL_f7c32ccb2fb74d4aa9e747867058ad67",
            "_dom_classes": [],
            "description": "100%",
            "_model_name": "FloatProgressModel",
            "bar_style": "success",
            "max": 128,
            "_view_module": "@jupyter-widgets/controls",
            "_model_module_version": "1.5.0",
            "value": 128,
            "_view_count": null,
            "_view_module_version": "1.5.0",
            "orientation": "horizontal",
            "min": 0,
            "description_tooltip": null,
            "_model_module": "@jupyter-widgets/controls",
            "layout": "IPY_MODEL_1dafd3a60927449bb5d449dbfbef0030"
          }
        },
        "7f4c798308ec46c592a5633d58215338": {
          "model_module": "@jupyter-widgets/controls",
          "model_name": "HTMLModel",
          "state": {
            "_view_name": "HTMLView",
            "style": "IPY_MODEL_73b8511fee4d454693d694670223e0bd",
            "_dom_classes": [],
            "description": "",
            "_model_name": "HTMLModel",
            "placeholder": "​",
            "_view_module": "@jupyter-widgets/controls",
            "_model_module_version": "1.5.0",
            "value": " 128/128 [00:00&lt;00:00, 827.70it/s]",
            "_view_count": null,
            "_view_module_version": "1.5.0",
            "description_tooltip": null,
            "_model_module": "@jupyter-widgets/controls",
            "layout": "IPY_MODEL_1a806798c3ee40f69282786ae9509020"
          }
        },
        "f7c32ccb2fb74d4aa9e747867058ad67": {
          "model_module": "@jupyter-widgets/controls",
          "model_name": "ProgressStyleModel",
          "state": {
            "_view_name": "StyleView",
            "_model_name": "ProgressStyleModel",
            "description_width": "initial",
            "_view_module": "@jupyter-widgets/base",
            "_model_module_version": "1.5.0",
            "_view_count": null,
            "_view_module_version": "1.2.0",
            "bar_color": null,
            "_model_module": "@jupyter-widgets/controls"
          }
        },
        "1dafd3a60927449bb5d449dbfbef0030": {
          "model_module": "@jupyter-widgets/base",
          "model_name": "LayoutModel",
          "state": {
            "_view_name": "LayoutView",
            "grid_template_rows": null,
            "right": null,
            "justify_content": null,
            "_view_module": "@jupyter-widgets/base",
            "overflow": null,
            "_model_module_version": "1.2.0",
            "_view_count": null,
            "flex_flow": null,
            "width": null,
            "min_width": null,
            "border": null,
            "align_items": null,
            "bottom": null,
            "_model_module": "@jupyter-widgets/base",
            "top": null,
            "grid_column": null,
            "overflow_y": null,
            "overflow_x": null,
            "grid_auto_flow": null,
            "grid_area": null,
            "grid_template_columns": null,
            "flex": null,
            "_model_name": "LayoutModel",
            "justify_items": null,
            "grid_row": null,
            "max_height": null,
            "align_content": null,
            "visibility": null,
            "align_self": null,
            "height": null,
            "min_height": null,
            "padding": null,
            "grid_auto_rows": null,
            "grid_gap": null,
            "max_width": null,
            "order": null,
            "_view_module_version": "1.2.0",
            "grid_template_areas": null,
            "object_position": null,
            "object_fit": null,
            "grid_auto_columns": null,
            "margin": null,
            "display": null,
            "left": null
          }
        },
        "73b8511fee4d454693d694670223e0bd": {
          "model_module": "@jupyter-widgets/controls",
          "model_name": "DescriptionStyleModel",
          "state": {
            "_view_name": "StyleView",
            "_model_name": "DescriptionStyleModel",
            "description_width": "",
            "_view_module": "@jupyter-widgets/base",
            "_model_module_version": "1.5.0",
            "_view_count": null,
            "_view_module_version": "1.2.0",
            "_model_module": "@jupyter-widgets/controls"
          }
        },
        "1a806798c3ee40f69282786ae9509020": {
          "model_module": "@jupyter-widgets/base",
          "model_name": "LayoutModel",
          "state": {
            "_view_name": "LayoutView",
            "grid_template_rows": null,
            "right": null,
            "justify_content": null,
            "_view_module": "@jupyter-widgets/base",
            "overflow": null,
            "_model_module_version": "1.2.0",
            "_view_count": null,
            "flex_flow": null,
            "width": null,
            "min_width": null,
            "border": null,
            "align_items": null,
            "bottom": null,
            "_model_module": "@jupyter-widgets/base",
            "top": null,
            "grid_column": null,
            "overflow_y": null,
            "overflow_x": null,
            "grid_auto_flow": null,
            "grid_area": null,
            "grid_template_columns": null,
            "flex": null,
            "_model_name": "LayoutModel",
            "justify_items": null,
            "grid_row": null,
            "max_height": null,
            "align_content": null,
            "visibility": null,
            "align_self": null,
            "height": null,
            "min_height": null,
            "padding": null,
            "grid_auto_rows": null,
            "grid_gap": null,
            "max_width": null,
            "order": null,
            "_view_module_version": "1.2.0",
            "grid_template_areas": null,
            "object_position": null,
            "object_fit": null,
            "grid_auto_columns": null,
            "margin": null,
            "display": null,
            "left": null
          }
        },
        "9e1aa65f987744e081829aa2633fd6c2": {
          "model_module": "@jupyter-widgets/controls",
          "model_name": "HBoxModel",
          "state": {
            "_view_name": "HBoxView",
            "_dom_classes": [],
            "_model_name": "HBoxModel",
            "_view_module": "@jupyter-widgets/controls",
            "_model_module_version": "1.5.0",
            "_view_count": null,
            "_view_module_version": "1.5.0",
            "box_style": "",
            "layout": "IPY_MODEL_4e3ee4758b44435c9f348325988e9dd0",
            "_model_module": "@jupyter-widgets/controls",
            "children": [
              "IPY_MODEL_1455ad9073a242cd89fe7e5c42532b66",
              "IPY_MODEL_4822233dd56040299c81c86f8bdd2abe"
            ]
          }
        },
        "4e3ee4758b44435c9f348325988e9dd0": {
          "model_module": "@jupyter-widgets/base",
          "model_name": "LayoutModel",
          "state": {
            "_view_name": "LayoutView",
            "grid_template_rows": null,
            "right": null,
            "justify_content": null,
            "_view_module": "@jupyter-widgets/base",
            "overflow": null,
            "_model_module_version": "1.2.0",
            "_view_count": null,
            "flex_flow": null,
            "width": null,
            "min_width": null,
            "border": null,
            "align_items": null,
            "bottom": null,
            "_model_module": "@jupyter-widgets/base",
            "top": null,
            "grid_column": null,
            "overflow_y": null,
            "overflow_x": null,
            "grid_auto_flow": null,
            "grid_area": null,
            "grid_template_columns": null,
            "flex": null,
            "_model_name": "LayoutModel",
            "justify_items": null,
            "grid_row": null,
            "max_height": null,
            "align_content": null,
            "visibility": null,
            "align_self": null,
            "height": null,
            "min_height": null,
            "padding": null,
            "grid_auto_rows": null,
            "grid_gap": null,
            "max_width": null,
            "order": null,
            "_view_module_version": "1.2.0",
            "grid_template_areas": null,
            "object_position": null,
            "object_fit": null,
            "grid_auto_columns": null,
            "margin": null,
            "display": null,
            "left": null
          }
        },
        "1455ad9073a242cd89fe7e5c42532b66": {
          "model_module": "@jupyter-widgets/controls",
          "model_name": "FloatProgressModel",
          "state": {
            "_view_name": "ProgressView",
            "style": "IPY_MODEL_c33245e4b31248f7837fb1d53615dd7e",
            "_dom_classes": [],
            "description": "100%",
            "_model_name": "FloatProgressModel",
            "bar_style": "success",
            "max": 68,
            "_view_module": "@jupyter-widgets/controls",
            "_model_module_version": "1.5.0",
            "value": 68,
            "_view_count": null,
            "_view_module_version": "1.5.0",
            "orientation": "horizontal",
            "min": 0,
            "description_tooltip": null,
            "_model_module": "@jupyter-widgets/controls",
            "layout": "IPY_MODEL_34e702bd35fa43b5b7c9cfd024c52d3e"
          }
        },
        "4822233dd56040299c81c86f8bdd2abe": {
          "model_module": "@jupyter-widgets/controls",
          "model_name": "HTMLModel",
          "state": {
            "_view_name": "HTMLView",
            "style": "IPY_MODEL_3e06ae4aa1b64695a472f0023cfdcc36",
            "_dom_classes": [],
            "description": "",
            "_model_name": "HTMLModel",
            "placeholder": "​",
            "_view_module": "@jupyter-widgets/controls",
            "_model_module_version": "1.5.0",
            "value": " 68/68 [01:25&lt;00:00,  1.26s/it]",
            "_view_count": null,
            "_view_module_version": "1.5.0",
            "description_tooltip": null,
            "_model_module": "@jupyter-widgets/controls",
            "layout": "IPY_MODEL_3ce25813b04a4fa7b81d816de1c9434b"
          }
        },
        "c33245e4b31248f7837fb1d53615dd7e": {
          "model_module": "@jupyter-widgets/controls",
          "model_name": "ProgressStyleModel",
          "state": {
            "_view_name": "StyleView",
            "_model_name": "ProgressStyleModel",
            "description_width": "initial",
            "_view_module": "@jupyter-widgets/base",
            "_model_module_version": "1.5.0",
            "_view_count": null,
            "_view_module_version": "1.2.0",
            "bar_color": null,
            "_model_module": "@jupyter-widgets/controls"
          }
        },
        "34e702bd35fa43b5b7c9cfd024c52d3e": {
          "model_module": "@jupyter-widgets/base",
          "model_name": "LayoutModel",
          "state": {
            "_view_name": "LayoutView",
            "grid_template_rows": null,
            "right": null,
            "justify_content": null,
            "_view_module": "@jupyter-widgets/base",
            "overflow": null,
            "_model_module_version": "1.2.0",
            "_view_count": null,
            "flex_flow": null,
            "width": null,
            "min_width": null,
            "border": null,
            "align_items": null,
            "bottom": null,
            "_model_module": "@jupyter-widgets/base",
            "top": null,
            "grid_column": null,
            "overflow_y": null,
            "overflow_x": null,
            "grid_auto_flow": null,
            "grid_area": null,
            "grid_template_columns": null,
            "flex": null,
            "_model_name": "LayoutModel",
            "justify_items": null,
            "grid_row": null,
            "max_height": null,
            "align_content": null,
            "visibility": null,
            "align_self": null,
            "height": null,
            "min_height": null,
            "padding": null,
            "grid_auto_rows": null,
            "grid_gap": null,
            "max_width": null,
            "order": null,
            "_view_module_version": "1.2.0",
            "grid_template_areas": null,
            "object_position": null,
            "object_fit": null,
            "grid_auto_columns": null,
            "margin": null,
            "display": null,
            "left": null
          }
        },
        "3e06ae4aa1b64695a472f0023cfdcc36": {
          "model_module": "@jupyter-widgets/controls",
          "model_name": "DescriptionStyleModel",
          "state": {
            "_view_name": "StyleView",
            "_model_name": "DescriptionStyleModel",
            "description_width": "",
            "_view_module": "@jupyter-widgets/base",
            "_model_module_version": "1.5.0",
            "_view_count": null,
            "_view_module_version": "1.2.0",
            "_model_module": "@jupyter-widgets/controls"
          }
        },
        "3ce25813b04a4fa7b81d816de1c9434b": {
          "model_module": "@jupyter-widgets/base",
          "model_name": "LayoutModel",
          "state": {
            "_view_name": "LayoutView",
            "grid_template_rows": null,
            "right": null,
            "justify_content": null,
            "_view_module": "@jupyter-widgets/base",
            "overflow": null,
            "_model_module_version": "1.2.0",
            "_view_count": null,
            "flex_flow": null,
            "width": null,
            "min_width": null,
            "border": null,
            "align_items": null,
            "bottom": null,
            "_model_module": "@jupyter-widgets/base",
            "top": null,
            "grid_column": null,
            "overflow_y": null,
            "overflow_x": null,
            "grid_auto_flow": null,
            "grid_area": null,
            "grid_template_columns": null,
            "flex": null,
            "_model_name": "LayoutModel",
            "justify_items": null,
            "grid_row": null,
            "max_height": null,
            "align_content": null,
            "visibility": null,
            "align_self": null,
            "height": null,
            "min_height": null,
            "padding": null,
            "grid_auto_rows": null,
            "grid_gap": null,
            "max_width": null,
            "order": null,
            "_view_module_version": "1.2.0",
            "grid_template_areas": null,
            "object_position": null,
            "object_fit": null,
            "grid_auto_columns": null,
            "margin": null,
            "display": null,
            "left": null
          }
        },
        "5c24401781c243f2be96ca98778feb64": {
          "model_module": "@jupyter-widgets/controls",
          "model_name": "HBoxModel",
          "state": {
            "_view_name": "HBoxView",
            "_dom_classes": [],
            "_model_name": "HBoxModel",
            "_view_module": "@jupyter-widgets/controls",
            "_model_module_version": "1.5.0",
            "_view_count": null,
            "_view_module_version": "1.5.0",
            "box_style": "",
            "layout": "IPY_MODEL_a50e920866bd4a15ad8fe98a43845628",
            "_model_module": "@jupyter-widgets/controls",
            "children": [
              "IPY_MODEL_faf21144a4a648bc83b1e456ce2f78f7",
              "IPY_MODEL_a7984b3bdb2047aaa0c15a62eb0340de"
            ]
          }
        },
        "a50e920866bd4a15ad8fe98a43845628": {
          "model_module": "@jupyter-widgets/base",
          "model_name": "LayoutModel",
          "state": {
            "_view_name": "LayoutView",
            "grid_template_rows": null,
            "right": null,
            "justify_content": null,
            "_view_module": "@jupyter-widgets/base",
            "overflow": null,
            "_model_module_version": "1.2.0",
            "_view_count": null,
            "flex_flow": null,
            "width": null,
            "min_width": null,
            "border": null,
            "align_items": null,
            "bottom": null,
            "_model_module": "@jupyter-widgets/base",
            "top": null,
            "grid_column": null,
            "overflow_y": null,
            "overflow_x": null,
            "grid_auto_flow": null,
            "grid_area": null,
            "grid_template_columns": null,
            "flex": null,
            "_model_name": "LayoutModel",
            "justify_items": null,
            "grid_row": null,
            "max_height": null,
            "align_content": null,
            "visibility": null,
            "align_self": null,
            "height": null,
            "min_height": null,
            "padding": null,
            "grid_auto_rows": null,
            "grid_gap": null,
            "max_width": null,
            "order": null,
            "_view_module_version": "1.2.0",
            "grid_template_areas": null,
            "object_position": null,
            "object_fit": null,
            "grid_auto_columns": null,
            "margin": null,
            "display": null,
            "left": null
          }
        },
        "faf21144a4a648bc83b1e456ce2f78f7": {
          "model_module": "@jupyter-widgets/controls",
          "model_name": "FloatProgressModel",
          "state": {
            "_view_name": "ProgressView",
            "style": "IPY_MODEL_56384b5c24f14778be5adea77c5279c2",
            "_dom_classes": [],
            "description": "100%",
            "_model_name": "FloatProgressModel",
            "bar_style": "success",
            "max": 21,
            "_view_module": "@jupyter-widgets/controls",
            "_model_module_version": "1.5.0",
            "value": 21,
            "_view_count": null,
            "_view_module_version": "1.5.0",
            "orientation": "horizontal",
            "min": 0,
            "description_tooltip": null,
            "_model_module": "@jupyter-widgets/controls",
            "layout": "IPY_MODEL_81eecc915e0e486c88c9aeecfe4f73d5"
          }
        },
        "a7984b3bdb2047aaa0c15a62eb0340de": {
          "model_module": "@jupyter-widgets/controls",
          "model_name": "HTMLModel",
          "state": {
            "_view_name": "HTMLView",
            "style": "IPY_MODEL_c727f26d6ccf43edad14578d3a9911d1",
            "_dom_classes": [],
            "description": "",
            "_model_name": "HTMLModel",
            "placeholder": "​",
            "_view_module": "@jupyter-widgets/controls",
            "_model_module_version": "1.5.0",
            "value": " 21/21 [01:00&lt;00:00,  2.89s/it]",
            "_view_count": null,
            "_view_module_version": "1.5.0",
            "description_tooltip": null,
            "_model_module": "@jupyter-widgets/controls",
            "layout": "IPY_MODEL_062e37fdcf0249fe9f063bfa6e1491a0"
          }
        },
        "56384b5c24f14778be5adea77c5279c2": {
          "model_module": "@jupyter-widgets/controls",
          "model_name": "ProgressStyleModel",
          "state": {
            "_view_name": "StyleView",
            "_model_name": "ProgressStyleModel",
            "description_width": "initial",
            "_view_module": "@jupyter-widgets/base",
            "_model_module_version": "1.5.0",
            "_view_count": null,
            "_view_module_version": "1.2.0",
            "bar_color": null,
            "_model_module": "@jupyter-widgets/controls"
          }
        },
        "81eecc915e0e486c88c9aeecfe4f73d5": {
          "model_module": "@jupyter-widgets/base",
          "model_name": "LayoutModel",
          "state": {
            "_view_name": "LayoutView",
            "grid_template_rows": null,
            "right": null,
            "justify_content": null,
            "_view_module": "@jupyter-widgets/base",
            "overflow": null,
            "_model_module_version": "1.2.0",
            "_view_count": null,
            "flex_flow": null,
            "width": null,
            "min_width": null,
            "border": null,
            "align_items": null,
            "bottom": null,
            "_model_module": "@jupyter-widgets/base",
            "top": null,
            "grid_column": null,
            "overflow_y": null,
            "overflow_x": null,
            "grid_auto_flow": null,
            "grid_area": null,
            "grid_template_columns": null,
            "flex": null,
            "_model_name": "LayoutModel",
            "justify_items": null,
            "grid_row": null,
            "max_height": null,
            "align_content": null,
            "visibility": null,
            "align_self": null,
            "height": null,
            "min_height": null,
            "padding": null,
            "grid_auto_rows": null,
            "grid_gap": null,
            "max_width": null,
            "order": null,
            "_view_module_version": "1.2.0",
            "grid_template_areas": null,
            "object_position": null,
            "object_fit": null,
            "grid_auto_columns": null,
            "margin": null,
            "display": null,
            "left": null
          }
        },
        "c727f26d6ccf43edad14578d3a9911d1": {
          "model_module": "@jupyter-widgets/controls",
          "model_name": "DescriptionStyleModel",
          "state": {
            "_view_name": "StyleView",
            "_model_name": "DescriptionStyleModel",
            "description_width": "",
            "_view_module": "@jupyter-widgets/base",
            "_model_module_version": "1.5.0",
            "_view_count": null,
            "_view_module_version": "1.2.0",
            "_model_module": "@jupyter-widgets/controls"
          }
        },
        "062e37fdcf0249fe9f063bfa6e1491a0": {
          "model_module": "@jupyter-widgets/base",
          "model_name": "LayoutModel",
          "state": {
            "_view_name": "LayoutView",
            "grid_template_rows": null,
            "right": null,
            "justify_content": null,
            "_view_module": "@jupyter-widgets/base",
            "overflow": null,
            "_model_module_version": "1.2.0",
            "_view_count": null,
            "flex_flow": null,
            "width": null,
            "min_width": null,
            "border": null,
            "align_items": null,
            "bottom": null,
            "_model_module": "@jupyter-widgets/base",
            "top": null,
            "grid_column": null,
            "overflow_y": null,
            "overflow_x": null,
            "grid_auto_flow": null,
            "grid_area": null,
            "grid_template_columns": null,
            "flex": null,
            "_model_name": "LayoutModel",
            "justify_items": null,
            "grid_row": null,
            "max_height": null,
            "align_content": null,
            "visibility": null,
            "align_self": null,
            "height": null,
            "min_height": null,
            "padding": null,
            "grid_auto_rows": null,
            "grid_gap": null,
            "max_width": null,
            "order": null,
            "_view_module_version": "1.2.0",
            "grid_template_areas": null,
            "object_position": null,
            "object_fit": null,
            "grid_auto_columns": null,
            "margin": null,
            "display": null,
            "left": null
          }
        }
      }
    }
  },
  "cells": [
    {
      "cell_type": "markdown",
      "metadata": {
        "id": "view-in-github",
        "colab_type": "text"
      },
      "source": [
        "<a href=\"https://colab.research.google.com/github/Gauravsharma-20/Minor-Project/blob/master/Pred_Model.ipynb\" target=\"_parent\"><img src=\"https://colab.research.google.com/assets/colab-badge.svg\" alt=\"Open In Colab\"/></a>"
      ]
    },
    {
      "cell_type": "markdown",
      "metadata": {
        "id": "fVqs9WAyaYTq"
      },
      "source": [
        "Load Important Libraries"
      ]
    },
    {
      "cell_type": "code",
      "metadata": {
        "id": "CNEa1fKyaXDd"
      },
      "source": [
        "import tensorflow as tf\n",
        "import h5py\n",
        "import shutil\n",
        "import numpy as np\n",
        "import matplotlib.pyplot as plt\n",
        "\n",
        "from torch.utils.data import DataLoader\n",
        "import keras\n",
        "from keras.models import Sequential\n",
        "from keras.layers import Dense, Flatten, Conv3D, MaxPooling3D, Dropout\n",
        "from keras.utils import to_categorical\n",
        "\n",
        "from tensorflow.keras.callbacks import ModelCheckpoint\n",
        "from keras.utils.vis_utils import plot_model\n",
        "from sklearn.model_selection import train_test_split\n",
        "import imutils\n",
        "import time\n",
        "from torchvision import datasets, models, transforms\n",
        "import cv2\n",
        "from keras.models import Input,Model\n",
        "from tqdm.notebook import tqdm\n",
        "from keras.callbacks import ModelCheckpoint, TensorBoard\n",
        "from tqdm.notebook import tqdm\n",
        "from tensorflow.python.framework.ops import Tensor\n",
        "from keras.layers import Conv2D,Dropout\n",
        "from keras.layers import Activation,Average\n",
        "from keras.layers import MaxPooling2D,GlobalAveragePooling2D,BatchNormalization\n",
        "from keras.optimizers import Adam\n",
        "import collections\n",
        "from keras.losses import categorical_crossentropy"
      ],
      "execution_count": null,
      "outputs": []
    },
    {
      "cell_type": "code",
      "metadata": {
        "id": "itlHPcxULqGm",
        "outputId": "e88b39c2-c4b2-479a-ec9b-e6487b25f579",
        "colab": {
          "base_uri": "https://localhost:8080/",
          "height": 33
        }
      },
      "source": [
        "#mount drive here\n",
        "from google.colab import drive\n",
        "drive.mount('/content/gdrive')"
      ],
      "execution_count": null,
      "outputs": [
        {
          "output_type": "stream",
          "text": [
            "Mounted at /content/gdrive\n"
          ],
          "name": "stdout"
        }
      ]
    },
    {
      "cell_type": "code",
      "metadata": {
        "id": "0pnnvgV0L7FW",
        "outputId": "74c4bda9-99ae-48bc-ab5e-6572f2f20efb",
        "colab": {
          "base_uri": "https://localhost:8080/",
          "height": 35
        }
      },
      "source": [
        "import os\n",
        "os.getcwd()+'/gdrive'"
      ],
      "execution_count": null,
      "outputs": [
        {
          "output_type": "execute_result",
          "data": {
            "application/vnd.google.colaboratory.intrinsic+json": {
              "type": "string"
            },
            "text/plain": [
              "'/content/gdrive'"
            ]
          },
          "metadata": {
            "tags": []
          },
          "execution_count": 3
        }
      ]
    },
    {
      "cell_type": "code",
      "metadata": {
        "id": "Vx_4fJ_9UUco"
      },
      "source": [
        "#val dataset is downloaded into drive"
      ],
      "execution_count": null,
      "outputs": []
    },
    {
      "cell_type": "code",
      "metadata": {
        "id": "wnDlhi82UUg-"
      },
      "source": [
        "#splitting val to train test"
      ],
      "execution_count": null,
      "outputs": []
    },
    {
      "cell_type": "code",
      "metadata": {
        "id": "rJ8mYvVfU7jP",
        "outputId": "c1b3e438-8a73-4324-c648-e7643ca4f2ac",
        "colab": {
          "base_uri": "https://localhost:8080/",
          "height": 104
        }
      },
      "source": [
        "!pip install split-folders"
      ],
      "execution_count": null,
      "outputs": [
        {
          "output_type": "stream",
          "text": [
            "Collecting split-folders\n",
            "  Downloading https://files.pythonhosted.org/packages/d1/4b/7b282b0f9319189d71e803220748929b37d019b67b1782d14c59cb1bd940/split_folders-0.4.2-py3-none-any.whl\n",
            "Installing collected packages: split-folders\n",
            "Successfully installed split-folders-0.4.2\n"
          ],
          "name": "stdout"
        }
      ]
    },
    {
      "cell_type": "code",
      "metadata": {
        "id": "pWJpvKm3VUwl"
      },
      "source": [
        "!mkdir out_val"
      ],
      "execution_count": null,
      "outputs": []
    },
    {
      "cell_type": "code",
      "metadata": {
        "id": "vGrQ6mc3VU0H",
        "outputId": "dc1e6f47-1d31-413d-d9d1-6ef299af3ad1",
        "colab": {
          "base_uri": "https://localhost:8080/",
          "height": 33
        }
      },
      "source": [
        "import splitfolders\n",
        "splitfolders.ratio(os.getcwd()+'/gdrive/My Drive/val', output='out_val', seed=1337, ratio=(.8, 0.1,0.1))"
      ],
      "execution_count": null,
      "outputs": [
        {
          "output_type": "stream",
          "text": [
            "Copying files: 696 files [03:14,  3.59 files/s]\n"
          ],
          "name": "stderr"
        }
      ]
    },
    {
      "cell_type": "markdown",
      "metadata": {
        "id": "tjyTthotXTAV"
      },
      "source": [
        "LOAD PREPROCESSED DATASET "
      ]
    },
    {
      "cell_type": "code",
      "metadata": {
        "id": "YNfRXox4yJT8",
        "outputId": "ab99e842-8697-4a0a-9462-af6b85bd1013",
        "colab": {
          "base_uri": "https://localhost:8080/",
          "height": 261,
          "referenced_widgets": [
            "8a885ddc580e4b66b461cb55820d924c",
            "9f0a2ec5200a47f2a1f9e42fb572a57c",
            "d13269797d554905a22ff232356620c4",
            "9ba0d877d60a48fca028239a093912b3",
            "088b08758504490382324913508c00aa",
            "ab18bdc1431b48fbbf3e19d552b4a123",
            "e1de8d03ddb04b0592884c829b6286db",
            "4a7e70c8b871498abdddc94c43136547",
            "250573cb7a244404a1678b3c18e89a12",
            "654886190c3648ae91b88e5f4cdd997d",
            "732aea01f29e4452a81cdb3f539110a0",
            "5377c93f335d4e52b7b4f12622c858c6",
            "8b6438f3e0c94d71aa0b812936c9d051",
            "36224879c42e467d9d3af7e40f8ef399",
            "c2f7515ab774471595434d0b8ff5e18c",
            "c58b905f8b1f4826bb4a554ae4d6fab4",
            "7b688b6a95f741c9a37406cc84932eb3",
            "1b135e0878f743329383159a0ed47ec3",
            "3e6542d78a2b4251ae7c21badf9d1e56",
            "7f4c798308ec46c592a5633d58215338",
            "f7c32ccb2fb74d4aa9e747867058ad67",
            "1dafd3a60927449bb5d449dbfbef0030",
            "73b8511fee4d454693d694670223e0bd",
            "1a806798c3ee40f69282786ae9509020",
            "9e1aa65f987744e081829aa2633fd6c2",
            "4e3ee4758b44435c9f348325988e9dd0",
            "1455ad9073a242cd89fe7e5c42532b66",
            "4822233dd56040299c81c86f8bdd2abe",
            "c33245e4b31248f7837fb1d53615dd7e",
            "34e702bd35fa43b5b7c9cfd024c52d3e",
            "3e06ae4aa1b64695a472f0023cfdcc36",
            "3ce25813b04a4fa7b81d816de1c9434b",
            "5c24401781c243f2be96ca98778feb64",
            "a50e920866bd4a15ad8fe98a43845628",
            "faf21144a4a648bc83b1e456ce2f78f7",
            "a7984b3bdb2047aaa0c15a62eb0340de",
            "56384b5c24f14778be5adea77c5279c2",
            "81eecc915e0e486c88c9aeecfe4f73d5",
            "c727f26d6ccf43edad14578d3a9911d1",
            "062e37fdcf0249fe9f063bfa6e1491a0"
          ]
        }
      },
      "source": [
        "X = []\n",
        "y = []\n",
        "\n",
        "inputDirectory = '/content/out_val/train/0'\n",
        "\n",
        "for filename in tqdm(os.listdir(inputDirectory)):\n",
        "    img=inputDirectory+'/'+filename\n",
        "    img= cv2.imread(img)\n",
        "    img= np.array(img)\n",
        "    X.append(img)\n",
        "    y.append(0)\n",
        "inputDirectory = '/content/out_val/train/1'\n",
        "for filename in tqdm(os.listdir(inputDirectory)):\n",
        "    img=inputDirectory+'/'+filename\n",
        "    img= cv2.imread(img)\n",
        "    img= np.array(img)\n",
        "    X.append(img)\n",
        "    y.append(1)\n",
        "inputDirectory = '/content/out_val/train/2'\n",
        "for filename in tqdm(os.listdir(inputDirectory)):\n",
        "    img=inputDirectory+'/'+filename\n",
        "    img= cv2.imread(img)\n",
        "    img= np.array(img)\n",
        "    X.append(img)\n",
        "    y.append(2)\n",
        "inputDirectory = '/content/out_val/train/3'\n",
        "for filename in tqdm(os.listdir(inputDirectory)):\n",
        "    img=inputDirectory+'/'+filename\n",
        "    img= cv2.imread(img)\n",
        "    img= np.array(img)\n",
        "    X.append(img)\n",
        "    y.append(3)\n",
        "inputDirectory = '/content/out_val/train/4'\n",
        "for filename in tqdm(os.listdir(inputDirectory)):\n",
        "    img=inputDirectory+'/'+filename\n",
        "    img= cv2.imread(img)\n",
        "    img= np.array(img)\n",
        "    X.append(img)\n",
        "    y.append(4)\n",
        "X = np.array(X) \n"
      ],
      "execution_count": null,
      "outputs": [
        {
          "output_type": "display_data",
          "data": {
            "application/vnd.jupyter.widget-view+json": {
              "model_id": "8a885ddc580e4b66b461cb55820d924c",
              "version_minor": 0,
              "version_major": 2
            },
            "text/plain": [
              "HBox(children=(FloatProgress(value=0.0, max=226.0), HTML(value='')))"
            ]
          },
          "metadata": {
            "tags": []
          }
        },
        {
          "output_type": "stream",
          "text": [
            "\n"
          ],
          "name": "stdout"
        },
        {
          "output_type": "display_data",
          "data": {
            "application/vnd.jupyter.widget-view+json": {
              "model_id": "250573cb7a244404a1678b3c18e89a12",
              "version_minor": 0,
              "version_major": 2
            },
            "text/plain": [
              "HBox(children=(FloatProgress(value=0.0, max=111.0), HTML(value='')))"
            ]
          },
          "metadata": {
            "tags": []
          }
        },
        {
          "output_type": "stream",
          "text": [
            "\n"
          ],
          "name": "stdout"
        },
        {
          "output_type": "display_data",
          "data": {
            "application/vnd.jupyter.widget-view+json": {
              "model_id": "7b688b6a95f741c9a37406cc84932eb3",
              "version_minor": 0,
              "version_major": 2
            },
            "text/plain": [
              "HBox(children=(FloatProgress(value=0.0, max=128.0), HTML(value='')))"
            ]
          },
          "metadata": {
            "tags": []
          }
        },
        {
          "output_type": "stream",
          "text": [
            "\n"
          ],
          "name": "stdout"
        },
        {
          "output_type": "display_data",
          "data": {
            "application/vnd.jupyter.widget-view+json": {
              "model_id": "9e1aa65f987744e081829aa2633fd6c2",
              "version_minor": 0,
              "version_major": 2
            },
            "text/plain": [
              "HBox(children=(FloatProgress(value=0.0, max=68.0), HTML(value='')))"
            ]
          },
          "metadata": {
            "tags": []
          }
        },
        {
          "output_type": "stream",
          "text": [
            "\n"
          ],
          "name": "stdout"
        },
        {
          "output_type": "display_data",
          "data": {
            "application/vnd.jupyter.widget-view+json": {
              "model_id": "5c24401781c243f2be96ca98778feb64",
              "version_minor": 0,
              "version_major": 2
            },
            "text/plain": [
              "HBox(children=(FloatProgress(value=0.0, max=21.0), HTML(value='')))"
            ]
          },
          "metadata": {
            "tags": []
          }
        },
        {
          "output_type": "stream",
          "text": [
            "\n"
          ],
          "name": "stdout"
        }
      ]
    },
    {
      "cell_type": "code",
      "metadata": {
        "id": "o60GipXEU5RZ",
        "outputId": "0ba58246-72d9-4c8c-8573-ace780bd36ec",
        "colab": {
          "base_uri": "https://localhost:8080/",
          "height": 50
        }
      },
      "source": [
        "print(X.shape)\n",
        "print(len(y))"
      ],
      "execution_count": null,
      "outputs": [
        {
          "output_type": "stream",
          "text": [
            "(554, 124, 224, 3)\n",
            "554\n"
          ],
          "name": "stdout"
        }
      ]
    },
    {
      "cell_type": "code",
      "metadata": {
        "id": "82ytEbLaeR5c"
      },
      "source": [
        ""
      ],
      "execution_count": null,
      "outputs": []
    },
    {
      "cell_type": "code",
      "metadata": {
        "id": "BPH0DI-q9T-C",
        "outputId": "8bf553aa-eb2d-4e33-de89-3b9668e5b5dc",
        "colab": {
          "base_uri": "https://localhost:8080/",
          "height": 33
        }
      },
      "source": [
        "#number of instances of each class\n",
        "collections.Counter(y)  \n"
      ],
      "execution_count": null,
      "outputs": [
        {
          "output_type": "execute_result",
          "data": {
            "text/plain": [
              "Counter({0: 226, 1: 111, 2: 128, 3: 68, 4: 21})"
            ]
          },
          "metadata": {
            "tags": []
          },
          "execution_count": 13
        }
      ]
    },
    {
      "cell_type": "code",
      "metadata": {
        "id": "KBfQV_kt9UIB"
      },
      "source": [
        "y=to_categorical(y)"
      ],
      "execution_count": null,
      "outputs": []
    },
    {
      "cell_type": "code",
      "metadata": {
        "id": "r1n62Fe8-yCX"
      },
      "source": [
        "#-------splitting dataset---------- "
      ],
      "execution_count": null,
      "outputs": []
    },
    {
      "cell_type": "code",
      "metadata": {
        "id": "XbA3Je8T2PG1"
      },
      "source": [
        "X_train, X_test,Y_train, Y_test = train_test_split(X, y, test_size=0.2, random_state=78)"
      ],
      "execution_count": null,
      "outputs": []
    },
    {
      "cell_type": "code",
      "metadata": {
        "id": "gRSztKsM2PVW"
      },
      "source": [
        "#X[0]\n",
        "#y"
      ],
      "execution_count": null,
      "outputs": []
    },
    {
      "cell_type": "markdown",
      "metadata": {
        "id": "zvtWvqQH7sVb"
      },
      "source": [
        "INput Shape"
      ]
    },
    {
      "cell_type": "code",
      "metadata": {
        "id": "mFXirWSz8bTw",
        "outputId": "ca15598e-c86a-456c-c3f0-d4f47757563c",
        "colab": {
          "base_uri": "https://localhost:8080/",
          "height": 35
        }
      },
      "source": [
        "\"\"\"import cv2\n",
        "\n",
        "im = cv2.imread(X[0])\"\"\""
      ],
      "execution_count": null,
      "outputs": [
        {
          "output_type": "execute_result",
          "data": {
            "application/vnd.google.colaboratory.intrinsic+json": {
              "type": "string"
            },
            "text/plain": [
              "'import cv2\\n\\nim = cv2.imread(X[0])'"
            ]
          },
          "metadata": {
            "tags": []
          },
          "execution_count": 16
        }
      ]
    },
    {
      "cell_type": "code",
      "metadata": {
        "id": "12p3IuW9Su6-"
      },
      "source": [
        "X = np.array(X)\n",
        "input_for_model=Input(shape=(None,124,224,3))"
      ],
      "execution_count": null,
      "outputs": []
    },
    {
      "cell_type": "code",
      "metadata": {
        "id": "QNz-WLF-4IzK"
      },
      "source": [
        "input_shape=(None,124,224,3)\n"
      ],
      "execution_count": null,
      "outputs": []
    },
    {
      "cell_type": "markdown",
      "metadata": {
        "id": "ie3t_FAtX47M"
      },
      "source": [
        "ConvPool_CNN_C Model"
      ]
    },
    {
      "cell_type": "code",
      "metadata": {
        "id": "SYqU1OlOMQ2f"
      },
      "source": [
        "#ConvPool_CNN_C \n",
        "def ConvPool_CNN_C(X,y,learningRate=0.001,lossFunction='categorical_crossentropy'):\n",
        "  model = Sequential()\n",
        "  model.add(Conv2D(96,kernel_size=(3,3),activation='relu',padding='same'))\n",
        "  model.add(Conv2D(96,kernel_size=(3,3),activation='relu',padding='same'))\n",
        "  model.add(Conv2D(96,kernel_size=(3,3),activation='relu',padding='same'))\n",
        "  model.add(MaxPooling2D(pool_size=(3,3),strides=2))\n",
        "  model.add(Conv2D(192,(3,3),activation='relu',padding='same'))\n",
        "  model.add(Conv2D(192,(3,3),activation='relu',padding='same'))\n",
        "  model.add(Conv2D(192,(3,3),activation='relu',padding='same'))\n",
        "  model.add(MaxPooling2D(pool_size=(3,3),strides=2))\n",
        "  model.add(Conv2D(192,(3,3),activation='relu',padding='same'))\n",
        "  model.add(Conv2D(192,(1,1),activation='relu'))\n",
        "  model.add(Conv2D(5,(1,1)))\n",
        "  model.add(GlobalAveragePooling2D())\n",
        "  model.add(Flatten())\n",
        "  model.add(Dense(5, activation='softmax'))\n",
        "  model.build(input_shape)\n",
        "  model.compile(loss=categorical_crossentropy,optimizer=Adam(0.001),metrics=['accuracy'])\n",
        "  return model"
      ],
      "execution_count": null,
      "outputs": []
    },
    {
      "cell_type": "code",
      "metadata": {
        "id": "-RtXEcDc559C"
      },
      "source": [
        "model = ConvPool_CNN_C(X, y)"
      ],
      "execution_count": null,
      "outputs": []
    },
    {
      "cell_type": "code",
      "metadata": {
        "id": "GzF0xIDI5wjE",
        "outputId": "2874844d-5217-4620-fe83-5ce48a478cfa",
        "colab": {
          "base_uri": "https://localhost:8080/",
          "height": 621
        }
      },
      "source": [
        "model.summary()"
      ],
      "execution_count": null,
      "outputs": [
        {
          "output_type": "stream",
          "text": [
            "Model: \"sequential_7\"\n",
            "_________________________________________________________________\n",
            "Layer (type)                 Output Shape              Param #   \n",
            "=================================================================\n",
            "conv2d_61 (Conv2D)           (None, 124, 224, 96)      2688      \n",
            "_________________________________________________________________\n",
            "conv2d_62 (Conv2D)           (None, 124, 224, 96)      83040     \n",
            "_________________________________________________________________\n",
            "conv2d_63 (Conv2D)           (None, 124, 224, 96)      83040     \n",
            "_________________________________________________________________\n",
            "max_pooling2d_10 (MaxPooling (None, 61, 111, 96)       0         \n",
            "_________________________________________________________________\n",
            "conv2d_64 (Conv2D)           (None, 61, 111, 192)      166080    \n",
            "_________________________________________________________________\n",
            "conv2d_65 (Conv2D)           (None, 61, 111, 192)      331968    \n",
            "_________________________________________________________________\n",
            "conv2d_66 (Conv2D)           (None, 61, 111, 192)      331968    \n",
            "_________________________________________________________________\n",
            "max_pooling2d_11 (MaxPooling (None, 30, 55, 192)       0         \n",
            "_________________________________________________________________\n",
            "conv2d_67 (Conv2D)           (None, 30, 55, 192)       331968    \n",
            "_________________________________________________________________\n",
            "conv2d_68 (Conv2D)           (None, 30, 55, 192)       37056     \n",
            "_________________________________________________________________\n",
            "conv2d_69 (Conv2D)           (None, 30, 55, 5)         965       \n",
            "_________________________________________________________________\n",
            "global_average_pooling2d_7 ( (None, 5)                 0         \n",
            "_________________________________________________________________\n",
            "flatten_5 (Flatten)          (None, 5)                 0         \n",
            "_________________________________________________________________\n",
            "dense_7 (Dense)              (None, 5)                 30        \n",
            "=================================================================\n",
            "Total params: 1,368,803\n",
            "Trainable params: 1,368,803\n",
            "Non-trainable params: 0\n",
            "_________________________________________________________________\n"
          ],
          "name": "stdout"
        }
      ]
    },
    {
      "cell_type": "code",
      "metadata": {
        "id": "BavVZFC1BOvW",
        "outputId": "1381b22c-63cf-4cc2-e348-074fb5d2895f",
        "colab": {
          "base_uri": "https://localhost:8080/",
          "height": 33
        }
      },
      "source": [
        "filepath = 'ConvPool_model.hdf5'\n",
        "\n",
        "checkpoint = ModelCheckpoint(filepath, monitor='val_loss', verbose=1, save_best_only=True, mode='auto', save_frequency=1)\n",
        "print(X_train.shape, Y_train.shape)"
      ],
      "execution_count": null,
      "outputs": [
        {
          "output_type": "stream",
          "text": [
            "(443, 124, 224, 3) (443, 5)\n"
          ],
          "name": "stdout"
        }
      ]
    },
    {
      "cell_type": "code",
      "metadata": {
        "id": "pYwmSZ6gIWsD",
        "outputId": "d7f38c93-dca3-4ac1-9979-e08b24824dd7",
        "colab": {
          "base_uri": "https://localhost:8080/",
          "height": 1000
        }
      },
      "source": [
        "history = model.fit(X_train, Y_train,batch_size = 2,epochs = 25,verbose = 1,validation_split = 0.2,validation_data = (X_test, Y_test),callbacks = [checkpoint],shuffle=True)"
      ],
      "execution_count": null,
      "outputs": [
        {
          "output_type": "stream",
          "text": [
            "Epoch 1/25\n",
            "  1/177 [..............................] - ETA: 6s - loss: 3.7701 - accuracy: 0.0000e+00WARNING:tensorflow:Callbacks method `on_train_batch_end` is slow compared to the batch time (batch time: 0.0046s vs `on_train_batch_end` time: 0.0355s). Check your callbacks.\n",
            "177/177 [==============================] - ETA: 0s - loss: 1.6324 - accuracy: 0.3814\n",
            "Epoch 00001: val_loss improved from inf to 1.36219, saving model to ConvPool_model.hdf5\n",
            "177/177 [==============================] - 5s 28ms/step - loss: 1.6324 - accuracy: 0.3814 - val_loss: 1.3622 - val_accuracy: 0.4944\n",
            "Epoch 2/25\n",
            "177/177 [==============================] - ETA: 0s - loss: 1.5178 - accuracy: 0.3701\n",
            "Epoch 00002: val_loss did not improve from 1.36219\n",
            "177/177 [==============================] - 5s 26ms/step - loss: 1.5178 - accuracy: 0.3701 - val_loss: 1.4094 - val_accuracy: 0.4944\n",
            "Epoch 3/25\n",
            "177/177 [==============================] - ETA: 0s - loss: 1.4829 - accuracy: 0.3842\n",
            "Epoch 00003: val_loss improved from 1.36219 to 1.35144, saving model to ConvPool_model.hdf5\n",
            "177/177 [==============================] - 5s 26ms/step - loss: 1.4829 - accuracy: 0.3842 - val_loss: 1.3514 - val_accuracy: 0.4944\n",
            "Epoch 4/25\n",
            "177/177 [==============================] - ETA: 0s - loss: 1.4544 - accuracy: 0.3870\n",
            "Epoch 00004: val_loss improved from 1.35144 to 1.35037, saving model to ConvPool_model.hdf5\n",
            "177/177 [==============================] - 5s 26ms/step - loss: 1.4544 - accuracy: 0.3870 - val_loss: 1.3504 - val_accuracy: 0.4944\n",
            "Epoch 5/25\n",
            "176/177 [============================>.] - ETA: 0s - loss: 1.4441 - accuracy: 0.3835\n",
            "Epoch 00005: val_loss did not improve from 1.35037\n",
            "177/177 [==============================] - 4s 25ms/step - loss: 1.4409 - accuracy: 0.3870 - val_loss: 1.3521 - val_accuracy: 0.4944\n",
            "Epoch 6/25\n",
            "177/177 [==============================] - ETA: 0s - loss: 1.4354 - accuracy: 0.3870\n",
            "Epoch 00006: val_loss did not improve from 1.35037\n",
            "177/177 [==============================] - 5s 26ms/step - loss: 1.4354 - accuracy: 0.3870 - val_loss: 1.3644 - val_accuracy: 0.4944\n",
            "Epoch 7/25\n",
            "177/177 [==============================] - ETA: 0s - loss: 1.4354 - accuracy: 0.3870\n",
            "Epoch 00007: val_loss did not improve from 1.35037\n",
            "177/177 [==============================] - 5s 26ms/step - loss: 1.4354 - accuracy: 0.3870 - val_loss: 1.3595 - val_accuracy: 0.4944\n",
            "Epoch 8/25\n",
            "177/177 [==============================] - ETA: 0s - loss: 1.4349 - accuracy: 0.3870\n",
            "Epoch 00008: val_loss did not improve from 1.35037\n",
            "177/177 [==============================] - 5s 26ms/step - loss: 1.4349 - accuracy: 0.3870 - val_loss: 1.3895 - val_accuracy: 0.4944\n",
            "Epoch 9/25\n",
            "177/177 [==============================] - ETA: 0s - loss: 1.4365 - accuracy: 0.3870\n",
            "Epoch 00009: val_loss did not improve from 1.35037\n",
            "177/177 [==============================] - 5s 26ms/step - loss: 1.4365 - accuracy: 0.3870 - val_loss: 1.3744 - val_accuracy: 0.4944\n",
            "Epoch 10/25\n",
            "176/177 [============================>.] - ETA: 0s - loss: 1.4370 - accuracy: 0.3864\n",
            "Epoch 00010: val_loss did not improve from 1.35037\n",
            "177/177 [==============================] - 5s 26ms/step - loss: 1.4357 - accuracy: 0.3870 - val_loss: 1.4018 - val_accuracy: 0.4944\n",
            "Epoch 11/25\n",
            "175/177 [============================>.] - ETA: 0s - loss: 1.4489 - accuracy: 0.3800\n",
            "Epoch 00011: val_loss did not improve from 1.35037\n",
            "177/177 [==============================] - 5s 26ms/step - loss: 1.4516 - accuracy: 0.3785 - val_loss: 1.3713 - val_accuracy: 0.4944\n",
            "Epoch 12/25\n",
            "177/177 [==============================] - ETA: 0s - loss: 1.4408 - accuracy: 0.3870\n",
            "Epoch 00012: val_loss did not improve from 1.35037\n",
            "177/177 [==============================] - 5s 26ms/step - loss: 1.4408 - accuracy: 0.3870 - val_loss: 1.3782 - val_accuracy: 0.4944\n",
            "Epoch 13/25\n",
            "176/177 [============================>.] - ETA: 0s - loss: 1.4353 - accuracy: 0.3835\n",
            "Epoch 00013: val_loss did not improve from 1.35037\n",
            "177/177 [==============================] - 5s 26ms/step - loss: 1.4328 - accuracy: 0.3870 - val_loss: 1.3707 - val_accuracy: 0.4944\n",
            "Epoch 14/25\n",
            "177/177 [==============================] - ETA: 0s - loss: 1.4331 - accuracy: 0.3870\n",
            "Epoch 00014: val_loss did not improve from 1.35037\n",
            "177/177 [==============================] - 5s 26ms/step - loss: 1.4331 - accuracy: 0.3870 - val_loss: 1.3614 - val_accuracy: 0.4944\n",
            "Epoch 15/25\n",
            "175/177 [============================>.] - ETA: 0s - loss: 1.4324 - accuracy: 0.3914\n",
            "Epoch 00015: val_loss did not improve from 1.35037\n",
            "177/177 [==============================] - 5s 26ms/step - loss: 1.4332 - accuracy: 0.3870 - val_loss: 1.3719 - val_accuracy: 0.4944\n",
            "Epoch 16/25\n",
            "176/177 [============================>.] - ETA: 0s - loss: 1.4272 - accuracy: 0.3892\n",
            "Epoch 00016: val_loss did not improve from 1.35037\n",
            "177/177 [==============================] - 5s 26ms/step - loss: 1.4296 - accuracy: 0.3870 - val_loss: 1.3621 - val_accuracy: 0.4944\n",
            "Epoch 17/25\n",
            "177/177 [==============================] - ETA: 0s - loss: 1.4326 - accuracy: 0.3870\n",
            "Epoch 00017: val_loss did not improve from 1.35037\n",
            "177/177 [==============================] - 5s 26ms/step - loss: 1.4326 - accuracy: 0.3870 - val_loss: 1.4065 - val_accuracy: 0.4944\n",
            "Epoch 18/25\n",
            "177/177 [==============================] - ETA: 0s - loss: 1.4202 - accuracy: 0.3870\n",
            "Epoch 00018: val_loss improved from 1.35037 to 1.34806, saving model to ConvPool_model.hdf5\n",
            "177/177 [==============================] - 5s 26ms/step - loss: 1.4202 - accuracy: 0.3870 - val_loss: 1.3481 - val_accuracy: 0.4944\n",
            "Epoch 19/25\n",
            "177/177 [==============================] - ETA: 0s - loss: 1.4334 - accuracy: 0.3870\n",
            "Epoch 00019: val_loss did not improve from 1.34806\n",
            "177/177 [==============================] - 5s 26ms/step - loss: 1.4334 - accuracy: 0.3870 - val_loss: 1.3673 - val_accuracy: 0.4944\n",
            "Epoch 20/25\n",
            "175/177 [============================>.] - ETA: 0s - loss: 1.4292 - accuracy: 0.3886\n",
            "Epoch 00020: val_loss did not improve from 1.34806\n",
            "177/177 [==============================] - 5s 26ms/step - loss: 1.4296 - accuracy: 0.3870 - val_loss: 1.3666 - val_accuracy: 0.4944\n",
            "Epoch 21/25\n",
            "177/177 [==============================] - ETA: 0s - loss: 1.4300 - accuracy: 0.3870\n",
            "Epoch 00021: val_loss did not improve from 1.34806\n",
            "177/177 [==============================] - 5s 26ms/step - loss: 1.4300 - accuracy: 0.3870 - val_loss: 1.3865 - val_accuracy: 0.4944\n",
            "Epoch 22/25\n",
            "176/177 [============================>.] - ETA: 0s - loss: 1.4341 - accuracy: 0.3864\n",
            "Epoch 00022: val_loss did not improve from 1.34806\n",
            "177/177 [==============================] - 5s 26ms/step - loss: 1.4327 - accuracy: 0.3870 - val_loss: 1.3652 - val_accuracy: 0.4944\n",
            "Epoch 23/25\n",
            "177/177 [==============================] - ETA: 0s - loss: 1.4307 - accuracy: 0.3870\n",
            "Epoch 00023: val_loss did not improve from 1.34806\n",
            "177/177 [==============================] - 5s 26ms/step - loss: 1.4307 - accuracy: 0.3870 - val_loss: 1.3619 - val_accuracy: 0.4944\n",
            "Epoch 24/25\n",
            "176/177 [============================>.] - ETA: 0s - loss: 1.4479 - accuracy: 0.3835\n",
            "Epoch 00024: val_loss did not improve from 1.34806\n",
            "177/177 [==============================] - 5s 26ms/step - loss: 1.4503 - accuracy: 0.3814 - val_loss: 1.3705 - val_accuracy: 0.4944\n",
            "Epoch 25/25\n",
            "177/177 [==============================] - ETA: 0s - loss: 1.4319 - accuracy: 0.3870\n",
            "Epoch 00025: val_loss did not improve from 1.34806\n",
            "177/177 [==============================] - 5s 26ms/step - loss: 1.4319 - accuracy: 0.3870 - val_loss: 1.3699 - val_accuracy: 0.4944\n"
          ],
          "name": "stdout"
        }
      ]
    },
    {
      "cell_type": "code",
      "metadata": {
        "id": "w-9py-WXIWoS",
        "outputId": "27dd2db0-8418-4939-ccfe-d7e4a3b328a2",
        "colab": {
          "base_uri": "https://localhost:8080/",
          "height": 33
        }
      },
      "source": [
        "model.evaluate(X_test, Y_test, verbose=0)"
      ],
      "execution_count": null,
      "outputs": [
        {
          "output_type": "execute_result",
          "data": {
            "text/plain": [
              "[1.4009755849838257, 0.4054054021835327]"
            ]
          },
          "metadata": {
            "tags": []
          },
          "execution_count": 44
        }
      ]
    },
    {
      "cell_type": "markdown",
      "metadata": {
        "id": "AvDbbrToX9Yn"
      },
      "source": [
        "ALL_CNN_C Model"
      ]
    },
    {
      "cell_type": "code",
      "metadata": {
        "id": "lJDdT1NDNNWt"
      },
      "source": [
        "def all_cnn_c(X,y,learningRate=0.001,lossFunction='categorical_crossentropy'):\n",
        "  model = Sequential()\n",
        "  model.add(Conv2D(96,kernel_size=(3,3),activation='relu',padding='same'))\n",
        "  model.add(Conv2D(96,kernel_size=(3,3),activation='relu',padding='same'))\n",
        "  model.add(Conv2D(96,kernel_size=(3,3),activation='relu',padding='same'))\n",
        "  model.add(Conv2D(192,(3,3),activation='relu',padding='same'))\n",
        "  model.add(Conv2D(192,(3,3),activation='relu',padding='same'))\n",
        "  model.add(Conv2D(192,(3,3),activation='relu',padding='same'))\n",
        "  model.add(Conv2D(192,(3,3),activation='relu',padding='same'))\n",
        "  model.add(Conv2D(192,(1,1),activation='relu'))\n",
        "  model.add(GlobalAveragePooling2D())\n",
        "  model.add(Dense(5, activation='softmax'))\n",
        "  model.build(input_shape)\n",
        "  model.compile(loss=categorical_crossentropy,optimizer=Adam(0.001),metrics=['accuracy'])\n",
        "  return model"
      ],
      "execution_count": null,
      "outputs": []
    },
    {
      "cell_type": "code",
      "metadata": {
        "id": "ZAn0OKGaXzNt",
        "outputId": "ee642a0d-c18c-44a8-99c0-ecb44d4caa1b",
        "colab": {
          "base_uri": "https://localhost:8080/",
          "height": 33
        }
      },
      "source": [
        "filepath = 'All_CNN_model.hdf5'\n",
        "checkpoint = ModelCheckpoint(filepath, monitor='val_loss', verbose=1, save_best_only=True, mode='auto', save_frequency=1)\n",
        "print(X_train.shape, Y_train.shape)"
      ],
      "execution_count": null,
      "outputs": [
        {
          "output_type": "stream",
          "text": [
            "(443, 124, 224, 3) (443, 5)\n"
          ],
          "name": "stdout"
        }
      ]
    },
    {
      "cell_type": "code",
      "metadata": {
        "id": "cx5U2160dFJw"
      },
      "source": [
        "all_cnn_c_model=all_cnn_c(X,y)"
      ],
      "execution_count": null,
      "outputs": []
    },
    {
      "cell_type": "code",
      "metadata": {
        "id": "yTcxmAwCXzHd",
        "outputId": "f488c1cc-9743-43d7-df87-ca5ad33cdb41",
        "colab": {
          "base_uri": "https://localhost:8080/",
          "height": 1000
        }
      },
      "source": [
        "\n",
        "history = all_cnn_c_model.fit(X_train, Y_train,batch_size = 2,epochs = 25,verbose = 1,validation_split = 0.2,validation_data = (X_test, Y_test),callbacks = [checkpoint],shuffle=True)"
      ],
      "execution_count": null,
      "outputs": [
        {
          "output_type": "stream",
          "text": [
            "Epoch 1/25\n",
            "  2/177 [..............................] - ETA: 20s - loss: 7.1894 - accuracy: 0.0000e+00WARNING:tensorflow:Callbacks method `on_train_batch_end` is slow compared to the batch time (batch time: 0.0044s vs `on_train_batch_end` time: 0.1149s). Check your callbacks.\n",
            "177/177 [==============================] - ETA: 0s - loss: 1.8202 - accuracy: 0.3559\n",
            "Epoch 00001: val_loss improved from inf to 1.49897, saving model to All_CNN_model.hdf5\n",
            "177/177 [==============================] - 14s 79ms/step - loss: 1.8202 - accuracy: 0.3559 - val_loss: 1.4990 - val_accuracy: 0.4944\n",
            "Epoch 2/25\n",
            "177/177 [==============================] - ETA: 0s - loss: 1.4730 - accuracy: 0.3842\n",
            "Epoch 00002: val_loss improved from 1.49897 to 1.41069, saving model to All_CNN_model.hdf5\n",
            "177/177 [==============================] - 14s 76ms/step - loss: 1.4730 - accuracy: 0.3842 - val_loss: 1.4107 - val_accuracy: 0.4944\n",
            "Epoch 3/25\n",
            "177/177 [==============================] - ETA: 0s - loss: 1.4495 - accuracy: 0.3814\n",
            "Epoch 00003: val_loss improved from 1.41069 to 1.38096, saving model to All_CNN_model.hdf5\n",
            "177/177 [==============================] - 14s 77ms/step - loss: 1.4495 - accuracy: 0.3814 - val_loss: 1.3810 - val_accuracy: 0.4944\n",
            "Epoch 4/25\n",
            "177/177 [==============================] - ETA: 0s - loss: 1.4345 - accuracy: 0.3870\n",
            "Epoch 00004: val_loss improved from 1.38096 to 1.38024, saving model to All_CNN_model.hdf5\n",
            "177/177 [==============================] - 14s 77ms/step - loss: 1.4345 - accuracy: 0.3870 - val_loss: 1.3802 - val_accuracy: 0.4944\n",
            "Epoch 5/25\n",
            "177/177 [==============================] - ETA: 0s - loss: 1.4410 - accuracy: 0.3870\n",
            "Epoch 00005: val_loss did not improve from 1.38024\n",
            "177/177 [==============================] - 14s 77ms/step - loss: 1.4410 - accuracy: 0.3870 - val_loss: 1.3813 - val_accuracy: 0.4944\n",
            "Epoch 6/25\n",
            "177/177 [==============================] - ETA: 0s - loss: 1.4420 - accuracy: 0.3870\n",
            "Epoch 00006: val_loss improved from 1.38024 to 1.37804, saving model to All_CNN_model.hdf5\n",
            "177/177 [==============================] - 14s 77ms/step - loss: 1.4420 - accuracy: 0.3870 - val_loss: 1.3780 - val_accuracy: 0.4944\n",
            "Epoch 7/25\n",
            "177/177 [==============================] - ETA: 0s - loss: 1.4332 - accuracy: 0.3870\n",
            "Epoch 00007: val_loss improved from 1.37804 to 1.36961, saving model to All_CNN_model.hdf5\n",
            "177/177 [==============================] - 14s 78ms/step - loss: 1.4332 - accuracy: 0.3870 - val_loss: 1.3696 - val_accuracy: 0.4944\n",
            "Epoch 8/25\n",
            "177/177 [==============================] - ETA: 0s - loss: 1.4367 - accuracy: 0.3870\n",
            "Epoch 00008: val_loss did not improve from 1.36961\n",
            "177/177 [==============================] - 14s 77ms/step - loss: 1.4367 - accuracy: 0.3870 - val_loss: 1.3822 - val_accuracy: 0.4944\n",
            "Epoch 9/25\n",
            "177/177 [==============================] - ETA: 0s - loss: 1.4349 - accuracy: 0.3870\n",
            "Epoch 00009: val_loss did not improve from 1.36961\n",
            "177/177 [==============================] - 14s 78ms/step - loss: 1.4349 - accuracy: 0.3870 - val_loss: 1.3810 - val_accuracy: 0.4944\n",
            "Epoch 10/25\n",
            "177/177 [==============================] - ETA: 0s - loss: 1.4474 - accuracy: 0.3362\n",
            "Epoch 00010: val_loss did not improve from 1.36961\n",
            "177/177 [==============================] - 14s 78ms/step - loss: 1.4474 - accuracy: 0.3362 - val_loss: 1.3915 - val_accuracy: 0.4944\n",
            "Epoch 11/25\n",
            "177/177 [==============================] - ETA: 0s - loss: 1.4326 - accuracy: 0.3870\n",
            "Epoch 00011: val_loss did not improve from 1.36961\n",
            "177/177 [==============================] - 14s 78ms/step - loss: 1.4326 - accuracy: 0.3870 - val_loss: 1.3896 - val_accuracy: 0.4944\n",
            "Epoch 12/25\n",
            "177/177 [==============================] - ETA: 0s - loss: 1.4336 - accuracy: 0.3870\n",
            "Epoch 00012: val_loss did not improve from 1.36961\n",
            "177/177 [==============================] - 14s 78ms/step - loss: 1.4336 - accuracy: 0.3870 - val_loss: 1.3873 - val_accuracy: 0.4944\n",
            "Epoch 13/25\n",
            "177/177 [==============================] - ETA: 0s - loss: 1.4353 - accuracy: 0.3870\n",
            "Epoch 00013: val_loss improved from 1.36961 to 1.36776, saving model to All_CNN_model.hdf5\n",
            "177/177 [==============================] - 14s 79ms/step - loss: 1.4353 - accuracy: 0.3870 - val_loss: 1.3678 - val_accuracy: 0.4944\n",
            "Epoch 14/25\n",
            "177/177 [==============================] - ETA: 0s - loss: 1.4304 - accuracy: 0.3870\n",
            "Epoch 00014: val_loss improved from 1.36776 to 1.36588, saving model to All_CNN_model.hdf5\n",
            "177/177 [==============================] - 14s 79ms/step - loss: 1.4304 - accuracy: 0.3870 - val_loss: 1.3659 - val_accuracy: 0.4944\n",
            "Epoch 15/25\n",
            "177/177 [==============================] - ETA: 0s - loss: 1.4294 - accuracy: 0.3870\n",
            "Epoch 00015: val_loss improved from 1.36588 to 1.36056, saving model to All_CNN_model.hdf5\n",
            "177/177 [==============================] - 14s 78ms/step - loss: 1.4294 - accuracy: 0.3870 - val_loss: 1.3606 - val_accuracy: 0.4944\n",
            "Epoch 16/25\n",
            "177/177 [==============================] - ETA: 0s - loss: 1.4313 - accuracy: 0.3870\n",
            "Epoch 00016: val_loss did not improve from 1.36056\n",
            "177/177 [==============================] - 14s 78ms/step - loss: 1.4313 - accuracy: 0.3870 - val_loss: 1.3623 - val_accuracy: 0.4944\n",
            "Epoch 17/25\n",
            "177/177 [==============================] - ETA: 0s - loss: 1.4307 - accuracy: 0.3870\n",
            "Epoch 00017: val_loss did not improve from 1.36056\n",
            "177/177 [==============================] - 14s 78ms/step - loss: 1.4307 - accuracy: 0.3870 - val_loss: 1.3645 - val_accuracy: 0.4944\n",
            "Epoch 18/25\n",
            "177/177 [==============================] - ETA: 0s - loss: 1.4295 - accuracy: 0.3870\n",
            "Epoch 00018: val_loss did not improve from 1.36056\n",
            "177/177 [==============================] - 14s 78ms/step - loss: 1.4295 - accuracy: 0.3870 - val_loss: 1.3667 - val_accuracy: 0.4944\n",
            "Epoch 19/25\n",
            "177/177 [==============================] - ETA: 0s - loss: 1.4314 - accuracy: 0.3870\n",
            "Epoch 00019: val_loss did not improve from 1.36056\n",
            "177/177 [==============================] - 14s 78ms/step - loss: 1.4314 - accuracy: 0.3870 - val_loss: 1.3620 - val_accuracy: 0.4944\n",
            "Epoch 20/25\n",
            "177/177 [==============================] - ETA: 0s - loss: 1.4296 - accuracy: 0.3870\n",
            "Epoch 00020: val_loss did not improve from 1.36056\n",
            "177/177 [==============================] - 14s 78ms/step - loss: 1.4296 - accuracy: 0.3870 - val_loss: 1.3714 - val_accuracy: 0.4944\n",
            "Epoch 21/25\n",
            "177/177 [==============================] - ETA: 0s - loss: 1.4292 - accuracy: 0.3870\n",
            "Epoch 00021: val_loss did not improve from 1.36056\n",
            "177/177 [==============================] - 14s 78ms/step - loss: 1.4292 - accuracy: 0.3870 - val_loss: 1.3637 - val_accuracy: 0.4944\n",
            "Epoch 22/25\n",
            "177/177 [==============================] - ETA: 0s - loss: 1.4289 - accuracy: 0.3870\n",
            "Epoch 00022: val_loss did not improve from 1.36056\n",
            "177/177 [==============================] - 14s 78ms/step - loss: 1.4289 - accuracy: 0.3870 - val_loss: 1.3680 - val_accuracy: 0.4944\n",
            "Epoch 23/25\n",
            "177/177 [==============================] - ETA: 0s - loss: 1.4969 - accuracy: 0.3814\n",
            "Epoch 00023: val_loss did not improve from 1.36056\n",
            "177/177 [==============================] - 14s 79ms/step - loss: 1.4969 - accuracy: 0.3814 - val_loss: 1.3694 - val_accuracy: 0.4944\n",
            "Epoch 24/25\n",
            "177/177 [==============================] - ETA: 0s - loss: 1.4521 - accuracy: 0.3898\n",
            "Epoch 00024: val_loss improved from 1.36056 to 1.35800, saving model to All_CNN_model.hdf5\n",
            "177/177 [==============================] - 14s 79ms/step - loss: 1.4521 - accuracy: 0.3898 - val_loss: 1.3580 - val_accuracy: 0.4944\n",
            "Epoch 25/25\n",
            "177/177 [==============================] - ETA: 0s - loss: 1.4337 - accuracy: 0.3870\n",
            "Epoch 00025: val_loss did not improve from 1.35800\n",
            "177/177 [==============================] - 14s 78ms/step - loss: 1.4337 - accuracy: 0.3870 - val_loss: 1.3714 - val_accuracy: 0.4944\n"
          ],
          "name": "stdout"
        }
      ]
    },
    {
      "cell_type": "markdown",
      "metadata": {
        "id": "HpBbOBa6YBk2"
      },
      "source": [
        "NIN_CNN Model"
      ]
    },
    {
      "cell_type": "code",
      "metadata": {
        "id": "mk44qmjhNYrt"
      },
      "source": [
        "#nin_cnn_c model\n",
        "def nin_cnn_c(X,y,learningRate=0.001,lossFunction='categorical_crossentropy'):\n",
        "  model = Sequential()\n",
        "  model.add(Conv2D(32,kernel_size=(5,5),activation='relu',padding='valid'))\n",
        "  model.add(Conv2D(32,kernel_size=(5,5),activation='relu'))\n",
        "  model.add(Conv2D(32,kernel_size=(5,5),activation='relu'))\n",
        "  model.add(MaxPooling2D(pool_size=(3,3),strides=2))\n",
        "  model.add(Dropout(0.5))\n",
        "  model.add(Conv2D(64,(3,3),activation='relu',padding='same'))\n",
        "  model.add(Conv2D(64,(1,1),activation='relu',padding='same'))\n",
        "  model.add(Conv2D(64,(1,1),activation='relu',padding='same'))\n",
        "  model.add(MaxPooling2D(pool_size=(3,3),strides=2))\n",
        "  model.add(Dropout(0.5))\n",
        "  model.add(Conv2D(128,(3,3),activation='relu',padding='same'))\n",
        "  model.add(Conv2D(32,(1,1),activation='relu'))\n",
        "  model.add(Conv2D(5,(1,1)))\n",
        "  model.add(GlobalAveragePooling2D())\n",
        "  model.add(Flatten())\n",
        "  model.add(Dense(5, activation='softmax'))\n",
        "  model.build(input_shape)\n",
        "  model.compile(loss=categorical_crossentropy,optimizer=Adam(0.001),metrics=['accuracy'])\n",
        "  return model"
      ],
      "execution_count": null,
      "outputs": []
    },
    {
      "cell_type": "code",
      "metadata": {
        "id": "KOO_h2r7c4ma"
      },
      "source": [
        "nin_model=nin_cnn_c(X,y)"
      ],
      "execution_count": null,
      "outputs": []
    },
    {
      "cell_type": "code",
      "metadata": {
        "id": "vit3S_FhaffR",
        "outputId": "00ec7159-a44e-43bd-d1e6-a2a64b5c13fe",
        "colab": {
          "base_uri": "https://localhost:8080/",
          "height": 33
        }
      },
      "source": [
        "filepath = 'NIN_CNN_model.hdf5'\n",
        "\n",
        "checkpoint = ModelCheckpoint(filepath, monitor='val_loss', verbose=1, save_best_only=True,mode='auto', save_frequency=1)\n",
        "print(X_train.shape, Y_train.shape)"
      ],
      "execution_count": null,
      "outputs": [
        {
          "output_type": "stream",
          "text": [
            "(443, 124, 224, 3) (443, 5)\n"
          ],
          "name": "stdout"
        }
      ]
    },
    {
      "cell_type": "code",
      "metadata": {
        "id": "63x0yZ1zaft2",
        "outputId": "dde579c8-cd6d-4b1f-b83b-6e0d4f76b20f",
        "colab": {
          "base_uri": "https://localhost:8080/",
          "height": 1000
        }
      },
      "source": [
        "history = model.fit(X_train, Y_train,batch_size = 2,epochs = 25,verbose = 1,validation_split = 0.2,validation_data = (X_test, Y_test),callbacks = [checkpoint],shuffle=True)"
      ],
      "execution_count": null,
      "outputs": [
        {
          "output_type": "stream",
          "text": [
            "Epoch 1/25\n",
            "  1/177 [..............................] - ETA: 3s - loss: 1.1564 - accuracy: 0.5000WARNING:tensorflow:Callbacks method `on_train_batch_end` is slow compared to the batch time (batch time: 0.0048s vs `on_train_batch_end` time: 0.0191s). Check your callbacks.\n",
            "176/177 [============================>.] - ETA: 0s - loss: 1.4315 - accuracy: 0.3864\n",
            "Epoch 00001: val_loss improved from inf to 1.36544, saving model to NIN_CNN_model.hdf5\n",
            "177/177 [==============================] - 5s 27ms/step - loss: 1.4302 - accuracy: 0.3870 - val_loss: 1.3654 - val_accuracy: 0.4944\n",
            "Epoch 2/25\n",
            "176/177 [============================>.] - ETA: 0s - loss: 1.4269 - accuracy: 0.3892\n",
            "Epoch 00002: val_loss improved from 1.36544 to 1.36490, saving model to NIN_CNN_model.hdf5\n",
            "177/177 [==============================] - 5s 28ms/step - loss: 1.4295 - accuracy: 0.3870 - val_loss: 1.3649 - val_accuracy: 0.4944\n",
            "Epoch 3/25\n",
            "175/177 [============================>.] - ETA: 0s - loss: 1.5752 - accuracy: 0.3829\n",
            "Epoch 00003: val_loss improved from 1.36490 to 1.36186, saving model to NIN_CNN_model.hdf5\n",
            "177/177 [==============================] - 5s 28ms/step - loss: 1.5712 - accuracy: 0.3842 - val_loss: 1.3619 - val_accuracy: 0.4944\n",
            "Epoch 4/25\n",
            "176/177 [============================>.] - ETA: 0s - loss: 1.4318 - accuracy: 0.3892\n",
            "Epoch 00004: val_loss did not improve from 1.36186\n",
            "177/177 [==============================] - 5s 27ms/step - loss: 1.4316 - accuracy: 0.3870 - val_loss: 1.3746 - val_accuracy: 0.4944\n",
            "Epoch 5/25\n",
            "175/177 [============================>.] - ETA: 0s - loss: 1.4330 - accuracy: 0.3857\n",
            "Epoch 00005: val_loss did not improve from 1.36186\n",
            "177/177 [==============================] - 5s 27ms/step - loss: 1.4307 - accuracy: 0.3870 - val_loss: 1.3674 - val_accuracy: 0.4944\n",
            "Epoch 6/25\n",
            "176/177 [============================>.] - ETA: 0s - loss: 1.4311 - accuracy: 0.3892\n",
            "Epoch 00006: val_loss did not improve from 1.36186\n",
            "177/177 [==============================] - 5s 27ms/step - loss: 1.4315 - accuracy: 0.3870 - val_loss: 1.3651 - val_accuracy: 0.4944\n",
            "Epoch 7/25\n",
            "177/177 [==============================] - ETA: 0s - loss: 1.4304 - accuracy: 0.3870\n",
            "Epoch 00007: val_loss did not improve from 1.36186\n",
            "177/177 [==============================] - 5s 27ms/step - loss: 1.4304 - accuracy: 0.3870 - val_loss: 1.3649 - val_accuracy: 0.4944\n",
            "Epoch 8/25\n",
            "176/177 [============================>.] - ETA: 0s - loss: 1.4299 - accuracy: 0.3864\n",
            "Epoch 00008: val_loss did not improve from 1.36186\n",
            "177/177 [==============================] - 5s 27ms/step - loss: 1.4286 - accuracy: 0.3870 - val_loss: 1.3688 - val_accuracy: 0.4944\n",
            "Epoch 9/25\n",
            "175/177 [============================>.] - ETA: 0s - loss: 1.4321 - accuracy: 0.3857\n",
            "Epoch 00009: val_loss did not improve from 1.36186\n",
            "177/177 [==============================] - 5s 27ms/step - loss: 1.4319 - accuracy: 0.3870 - val_loss: 1.3697 - val_accuracy: 0.4944\n",
            "Epoch 10/25\n",
            "176/177 [============================>.] - ETA: 0s - loss: 1.5795 - accuracy: 0.3864\n",
            "Epoch 00010: val_loss did not improve from 1.36186\n",
            "177/177 [==============================] - 5s 27ms/step - loss: 1.5787 - accuracy: 0.3842 - val_loss: 1.3670 - val_accuracy: 0.4944\n",
            "Epoch 11/25\n",
            "176/177 [============================>.] - ETA: 0s - loss: 1.4282 - accuracy: 0.3892\n",
            "Epoch 00011: val_loss did not improve from 1.36186\n",
            "177/177 [==============================] - 5s 27ms/step - loss: 1.4302 - accuracy: 0.3870 - val_loss: 1.3641 - val_accuracy: 0.4944\n",
            "Epoch 12/25\n",
            "177/177 [==============================] - ETA: 0s - loss: 1.4292 - accuracy: 0.3870\n",
            "Epoch 00012: val_loss did not improve from 1.36186\n",
            "177/177 [==============================] - 5s 27ms/step - loss: 1.4292 - accuracy: 0.3870 - val_loss: 1.3719 - val_accuracy: 0.4944\n",
            "Epoch 13/25\n",
            "177/177 [==============================] - ETA: 0s - loss: 1.4299 - accuracy: 0.3870\n",
            "Epoch 00013: val_loss did not improve from 1.36186\n",
            "177/177 [==============================] - 5s 27ms/step - loss: 1.4299 - accuracy: 0.3870 - val_loss: 1.3675 - val_accuracy: 0.4944\n",
            "Epoch 14/25\n",
            "176/177 [============================>.] - ETA: 0s - loss: 1.4300 - accuracy: 0.3864\n",
            "Epoch 00014: val_loss did not improve from 1.36186\n",
            "177/177 [==============================] - 5s 27ms/step - loss: 1.4305 - accuracy: 0.3870 - val_loss: 1.3696 - val_accuracy: 0.4944\n",
            "Epoch 15/25\n",
            "177/177 [==============================] - ETA: 0s - loss: 1.4293 - accuracy: 0.3870\n",
            "Epoch 00015: val_loss did not improve from 1.36186\n",
            "177/177 [==============================] - 5s 27ms/step - loss: 1.4293 - accuracy: 0.3870 - val_loss: 1.3669 - val_accuracy: 0.4944\n",
            "Epoch 16/25\n",
            "176/177 [============================>.] - ETA: 0s - loss: 1.4297 - accuracy: 0.3864\n",
            "Epoch 00016: val_loss did not improve from 1.36186\n",
            "177/177 [==============================] - 5s 27ms/step - loss: 1.4288 - accuracy: 0.3870 - val_loss: 1.3627 - val_accuracy: 0.4944\n",
            "Epoch 17/25\n",
            "175/177 [============================>.] - ETA: 0s - loss: 1.4217 - accuracy: 0.3914\n",
            "Epoch 00017: val_loss improved from 1.36186 to 1.36094, saving model to NIN_CNN_model.hdf5\n",
            "177/177 [==============================] - 5s 27ms/step - loss: 1.4293 - accuracy: 0.3870 - val_loss: 1.3609 - val_accuracy: 0.4944\n",
            "Epoch 18/25\n",
            "175/177 [============================>.] - ETA: 0s - loss: 1.5154 - accuracy: 0.3829\n",
            "Epoch 00018: val_loss improved from 1.36094 to 1.36092, saving model to NIN_CNN_model.hdf5\n",
            "177/177 [==============================] - 5s 27ms/step - loss: 1.5150 - accuracy: 0.3870 - val_loss: 1.3609 - val_accuracy: 0.4944\n",
            "Epoch 19/25\n",
            "176/177 [============================>.] - ETA: 0s - loss: 1.4332 - accuracy: 0.3892\n",
            "Epoch 00019: val_loss did not improve from 1.36092\n",
            "177/177 [==============================] - 5s 27ms/step - loss: 1.4351 - accuracy: 0.3870 - val_loss: 1.3624 - val_accuracy: 0.4944\n",
            "Epoch 20/25\n",
            "175/177 [============================>.] - ETA: 0s - loss: 1.4306 - accuracy: 0.3857\n",
            "Epoch 00020: val_loss did not improve from 1.36092\n",
            "177/177 [==============================] - 5s 27ms/step - loss: 1.4304 - accuracy: 0.3870 - val_loss: 1.3647 - val_accuracy: 0.4944\n",
            "Epoch 21/25\n",
            "177/177 [==============================] - ETA: 0s - loss: 1.4348 - accuracy: 0.3842\n",
            "Epoch 00021: val_loss did not improve from 1.36092\n",
            "177/177 [==============================] - 5s 27ms/step - loss: 1.4348 - accuracy: 0.3842 - val_loss: 1.3633 - val_accuracy: 0.4944\n",
            "Epoch 22/25\n",
            "176/177 [============================>.] - ETA: 0s - loss: 1.4290 - accuracy: 0.3892\n",
            "Epoch 00022: val_loss did not improve from 1.36092\n",
            "177/177 [==============================] - 5s 27ms/step - loss: 1.4294 - accuracy: 0.3870 - val_loss: 1.3654 - val_accuracy: 0.4944\n",
            "Epoch 23/25\n",
            "177/177 [==============================] - ETA: 0s - loss: 1.4276 - accuracy: 0.3870\n",
            "Epoch 00023: val_loss did not improve from 1.36092\n",
            "177/177 [==============================] - 5s 27ms/step - loss: 1.4276 - accuracy: 0.3870 - val_loss: 1.3638 - val_accuracy: 0.4944\n",
            "Epoch 24/25\n",
            "177/177 [==============================] - ETA: 0s - loss: 1.4284 - accuracy: 0.3870\n",
            "Epoch 00024: val_loss did not improve from 1.36092\n",
            "177/177 [==============================] - 5s 27ms/step - loss: 1.4284 - accuracy: 0.3870 - val_loss: 1.3675 - val_accuracy: 0.4944\n",
            "Epoch 25/25\n",
            "177/177 [==============================] - ETA: 0s - loss: 1.4287 - accuracy: 0.3870\n",
            "Epoch 00025: val_loss did not improve from 1.36092\n",
            "177/177 [==============================] - 5s 27ms/step - loss: 1.4287 - accuracy: 0.3870 - val_loss: 1.3649 - val_accuracy: 0.4944\n"
          ],
          "name": "stdout"
        }
      ]
    },
    {
      "cell_type": "markdown",
      "metadata": {
        "id": "t1IVbI57YIQ4"
      },
      "source": [
        "Loading Models"
      ]
    },
    {
      "cell_type": "code",
      "metadata": {
        "id": "o1uRWKQpUDqr"
      },
      "source": [
        "ConvPool_CNN_model=ConvPool_CNN_C(X,y)"
      ],
      "execution_count": null,
      "outputs": []
    },
    {
      "cell_type": "code",
      "metadata": {
        "id": "VbPmIG3KUD64"
      },
      "source": [
        "all_cnn_model=all_cnn_c(X,y)"
      ],
      "execution_count": null,
      "outputs": []
    },
    {
      "cell_type": "code",
      "metadata": {
        "id": "VS_VNHP8UEJ7"
      },
      "source": [
        "NIN_CNN_Model=nin_cnn_c(X,y)"
      ],
      "execution_count": null,
      "outputs": []
    },
    {
      "cell_type": "markdown",
      "metadata": {
        "id": "yEYlF01rYMrG"
      },
      "source": [
        "Ensemble models"
      ]
    },
    {
      "cell_type": "code",
      "metadata": {
        "id": "UsQz-_MEODwP"
      },
      "source": [
        "Models=[ConvPool_CNN_model,all_cnn_model,NIN_CNN_Model]"
      ],
      "execution_count": null,
      "outputs": []
    },
    {
      "cell_type": "code",
      "metadata": {
        "id": "AFTOITmLnxmZ"
      },
      "source": [
        "ConvPool_CNN_model_P=ConvPool_CNN_model.predict(X_test)\n",
        "all_cnn_model_P= all_cnn_model.predict(X_test)\n",
        "NIN_CNN_Model_P= NIN_CNN_Model.predict(X_test)\n",
        "#averaged_preds = (ConvPool_CNN_model_P +all_cnn_model_P +NIN_CNN_Model_P )//3\n"
      ],
      "execution_count": null,
      "outputs": []
    },
    {
      "cell_type": "code",
      "metadata": {
        "id": "NDIz29gvAAvt"
      },
      "source": [
        ""
      ],
      "execution_count": null,
      "outputs": []
    },
    {
      "cell_type": "code",
      "metadata": {
        "id": "yF9d57yKThcE"
      },
      "source": [
        ""
      ],
      "execution_count": null,
      "outputs": []
    },
    {
      "cell_type": "code",
      "metadata": {
        "id": "Q3tdrb5pl2dk"
      },
      "source": [
        ""
      ],
      "execution_count": null,
      "outputs": []
    },
    {
      "cell_type": "code",
      "metadata": {
        "id": "x_DJnUXxZSRk"
      },
      "source": [
        ""
      ],
      "execution_count": null,
      "outputs": []
    }
  ]
}