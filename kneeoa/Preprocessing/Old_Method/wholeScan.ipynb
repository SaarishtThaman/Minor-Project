{
 "cells": [
  {
   "cell_type": "code",
   "execution_count": 1,
   "metadata": {},
   "outputs": [],
   "source": [
    "from PIL import Image"
   ]
  },
  {
   "cell_type": "code",
   "execution_count": 2,
   "metadata": {},
   "outputs": [],
   "source": [
    "path = '1.jpg'\n",
    "try:\n",
    "    img = Image.open(path).convert('LA')\n",
    "except IOError:\n",
    "    pass"
   ]
  },
  {
   "cell_type": "code",
   "execution_count": 3,
   "metadata": {},
   "outputs": [],
   "source": [
    "width,height = img.size"
   ]
  },
  {
   "cell_type": "code",
   "execution_count": 4,
   "metadata": {
    "scrolled": true
   },
   "outputs": [
    {
     "name": "stdout",
     "output_type": "stream",
     "text": [
      "75   100\n",
      "None\n",
      "{'jfif': 257, 'jfif_version': (1, 1), 'jfif_unit': 0, 'jfif_density': (1, 1)}\n",
      "75\n"
     ]
    }
   ],
   "source": [
    "print(width,\" \",height)\n",
    "print(img.format)\n",
    "print(img.info)\n",
    "print(img.width)"
   ]
  },
  {
   "cell_type": "code",
   "execution_count": 7,
   "metadata": {},
   "outputs": [],
   "source": [
    "save_format = \"\"\n",
    "for i in path[-4:]:\n",
    "    if i!= '.':\n",
    "        save_format += i\n",
    "#save_path = '1_updated.'+ save_format\n",
    "save_path = '1_updated.png'\n",
    "#print(save_path)\n",
    "#img.save('name',path.format)\n",
    "img.save(save_path)"
   ]
  },
  {
   "cell_type": "code",
   "execution_count": 12,
   "metadata": {
    "scrolled": true
   },
   "outputs": [
    {
     "name": "stdout",
     "output_type": "stream",
     "text": [
      "2.0\n",
      "15000\n",
      "[29, 1, 1, 2, 9, 1, 0, 0, 1, 1, 9, 3, 5, 4, 3, 1, 1, 1, 4, 3, 5, 1, 1, 1, 4, 7, 6, 14, 2, 8, 8, 6, 9, 20, 14, 14, 18, 25, 14, 29, 32, 36, 41, 59, 42, 60, 55, 60, 79, 61, 69, 53, 74, 65, 53, 62, 70, 70, 79, 70, 74, 79, 60, 88, 72, 95, 57, 74, 72, 53, 97, 65, 83, 45, 45, 39, 46, 46, 38, 44, 40, 34, 34, 38, 28, 37, 31, 28, 32, 33, 36, 49, 43, 40, 40, 48, 54, 39, 38, 49, 37, 24, 28, 25, 28, 37, 32, 43, 22, 40, 24, 40, 32, 37, 35, 37, 32, 39, 43, 32, 21, 40, 35, 38, 47, 36, 46, 49, 56, 36, 48, 49, 51, 54, 46, 67, 67, 67, 82, 60, 49, 61, 54, 44, 48, 45, 44, 57, 52, 37, 30, 27, 38, 46, 39, 40, 40, 51, 46, 46, 37, 42, 34, 47, 42, 38, 26, 37, 49, 44, 35, 29, 40, 22, 44, 37, 33, 24, 27, 32, 32, 34, 37, 43, 30, 25, 32, 33, 33, 35, 36, 29, 33, 14, 16, 9, 19, 18, 23, 10, 7, 8, 5, 7, 9, 2, 4, 5, 7, 8, 7, 7, 9, 3, 5, 5, 8, 5, 4, 4, 3, 5, 2, 3, 1, 1, 3, 1, 1, 3, 1, 6, 1, 3, 1, 4, 1, 0, 0, 0, 0, 2, 1, 0, 0, 1, 0, 0, 0, 0, 0, 1, 0, 0, 0, 2, 29, 1, 1, 2, 9, 1, 0, 0, 1, 1, 9, 3, 5, 4, 3, 1, 1, 1, 4, 3, 5, 1, 1, 1, 4, 7, 6, 14, 2, 8, 8, 6, 9, 20, 14, 14, 18, 25, 14, 29, 32, 36, 41, 59, 42, 60, 55, 60, 79, 61, 69, 53, 74, 65, 53, 62, 70, 70, 79, 70, 74, 79, 60, 88, 72, 95, 57, 74, 72, 53, 97, 65, 83, 45, 45, 39, 46, 46, 38, 44, 40, 34, 34, 38, 28, 37, 31, 28, 32, 33, 36, 49, 43, 40, 40, 48, 54, 39, 38, 49, 37, 24, 28, 25, 28, 37, 32, 43, 22, 40, 24, 40, 32, 37, 35, 37, 32, 39, 43, 32, 21, 40, 35, 38, 47, 36, 46, 49, 56, 36, 48, 49, 51, 54, 46, 67, 67, 67, 82, 60, 49, 61, 54, 44, 48, 45, 44, 57, 52, 37, 30, 27, 38, 46, 39, 40, 40, 51, 46, 46, 37, 42, 34, 47, 42, 38, 26, 37, 49, 44, 35, 29, 40, 22, 44, 37, 33, 24, 27, 32, 32, 34, 37, 43, 30, 25, 32, 33, 33, 35, 36, 29, 33, 14, 16, 9, 19, 18, 23, 10, 7, 8, 5, 7, 9, 2, 4, 5, 7, 8, 7, 7, 9, 3, 5, 5, 8, 5, 4, 4, 3, 5, 2, 3, 1, 1, 3, 1, 1, 3, 1, 6, 1, 3, 1, 4, 1, 0, 0, 0, 0, 2, 1, 0, 0, 1, 0, 0, 0, 0, 0, 1, 0, 0, 0, 2]\n"
     ]
    }
   ],
   "source": [
    "#img.rotate(180)\n",
    "\n",
    "#area = (0,0,width/2,height/2)  #corner pixel \n",
    "#img = img.crop(area)\n",
    "\n",
    "#img.resize( (width/2,height/2) )\n",
    "\n",
    "#img.paste(img2, (50,50)) #co-ord of left corner\n",
    "print(sum(img.histogram())/(height*width))\n",
    "print(sum(img.histogram()))\n",
    "print(img.histogram())\n",
    "#img.transpose(Image.FLIP_LEFT_RIGHT)"
   ]
  },
  {
   "cell_type": "code",
   "execution_count": null,
   "metadata": {
    "scrolled": false
   },
   "outputs": [],
   "source": [
    "print(img.split())\n",
    "print(img.mode)\n",
    "img.thumbnail((200,200))\n",
    "img.save(path,'PNG')"
   ]
  },
  {
   "cell_type": "code",
   "execution_count": 11,
   "metadata": {},
   "outputs": [],
   "source": [
    "#print(img)\n",
    "img.show()"
   ]
  },
  {
   "cell_type": "code",
   "execution_count": 16,
   "metadata": {},
   "outputs": [
    {
     "name": "stdout",
     "output_type": "stream",
     "text": [
      "2.0\n",
      "100620\n"
     ]
    },
    {
     "ename": "TypeError",
     "evalue": "unsupported operand type(s) for -: 'list' and 'list'",
     "output_type": "error",
     "traceback": [
      "\u001b[1;31m---------------------------------------------------------------------------\u001b[0m",
      "\u001b[1;31mTypeError\u001b[0m                                 Traceback (most recent call last)",
      "\u001b[1;32m<ipython-input-16-4eb9077c7c8f>\u001b[0m in \u001b[0;36m<module>\u001b[1;34m\u001b[0m\n\u001b[0;32m      2\u001b[0m \u001b[0mprint\u001b[0m\u001b[1;33m(\u001b[0m\u001b[0msum\u001b[0m\u001b[1;33m(\u001b[0m\u001b[0mimg2\u001b[0m\u001b[1;33m.\u001b[0m\u001b[0mhistogram\u001b[0m\u001b[1;33m(\u001b[0m\u001b[1;33m)\u001b[0m\u001b[1;33m)\u001b[0m\u001b[1;33m/\u001b[0m\u001b[1;33m(\u001b[0m\u001b[0mimg2\u001b[0m\u001b[1;33m.\u001b[0m\u001b[0mheight\u001b[0m\u001b[1;33m*\u001b[0m\u001b[0mimg2\u001b[0m\u001b[1;33m.\u001b[0m\u001b[0mwidth\u001b[0m\u001b[1;33m)\u001b[0m\u001b[1;33m)\u001b[0m\u001b[1;33m\u001b[0m\u001b[1;33m\u001b[0m\u001b[0m\n\u001b[0;32m      3\u001b[0m \u001b[0mprint\u001b[0m\u001b[1;33m(\u001b[0m\u001b[0msum\u001b[0m\u001b[1;33m(\u001b[0m\u001b[0mimg2\u001b[0m\u001b[1;33m.\u001b[0m\u001b[0mhistogram\u001b[0m\u001b[1;33m(\u001b[0m\u001b[1;33m)\u001b[0m\u001b[1;33m)\u001b[0m\u001b[1;33m)\u001b[0m\u001b[1;33m\u001b[0m\u001b[1;33m\u001b[0m\u001b[0m\n\u001b[1;32m----> 4\u001b[1;33m \u001b[0mans\u001b[0m \u001b[1;33m=\u001b[0m \u001b[1;33m(\u001b[0m\u001b[0mimg\u001b[0m\u001b[1;33m.\u001b[0m\u001b[0mhistogram\u001b[0m\u001b[1;33m(\u001b[0m\u001b[1;33m)\u001b[0m \u001b[1;33m-\u001b[0m \u001b[0mimg2\u001b[0m\u001b[1;33m.\u001b[0m\u001b[0mhistogram\u001b[0m\u001b[1;33m(\u001b[0m\u001b[1;33m)\u001b[0m\u001b[1;33m)\u001b[0m\u001b[1;33m\u001b[0m\u001b[1;33m\u001b[0m\u001b[0m\n\u001b[0m",
      "\u001b[1;31mTypeError\u001b[0m: unsupported operand type(s) for -: 'list' and 'list'"
     ]
    }
   ],
   "source": [
    "img2 = Image.open('1_low.jpg').convert('LA')\n",
    "print(sum(img2.histogram())/(img2.height*img2.width))\n",
    "print(sum(img2.histogram()))\n",
    "ans = (img.histogram() - img2.histogram())"
   ]
  },
  {
   "cell_type": "code",
   "execution_count": 17,
   "metadata": {},
   "outputs": [
    {
     "ename": "ValueError",
     "evalue": "operands could not be broadcast together with shapes (100,75,2) (258,195,2) ",
     "output_type": "error",
     "traceback": [
      "\u001b[1;31m---------------------------------------------------------------------------\u001b[0m",
      "\u001b[1;31mValueError\u001b[0m                                Traceback (most recent call last)",
      "\u001b[1;32m<ipython-input-17-348f8dbdcc61>\u001b[0m in \u001b[0;36m<module>\u001b[1;34m\u001b[0m\n\u001b[0;32m      2\u001b[0m \u001b[0mnbins\u001b[0m \u001b[1;33m=\u001b[0m \u001b[1;36m100\u001b[0m\u001b[1;33m\u001b[0m\u001b[1;33m\u001b[0m\u001b[0m\n\u001b[0;32m      3\u001b[0m \u001b[1;31m#minimum value element wise from both arrays\u001b[0m\u001b[1;33m\u001b[0m\u001b[1;33m\u001b[0m\u001b[1;33m\u001b[0m\u001b[0m\n\u001b[1;32m----> 4\u001b[1;33m \u001b[0mmin\u001b[0m \u001b[1;33m=\u001b[0m \u001b[0mnp\u001b[0m\u001b[1;33m.\u001b[0m\u001b[0mminimum\u001b[0m\u001b[1;33m(\u001b[0m\u001b[0mimg\u001b[0m\u001b[1;33m,\u001b[0m \u001b[0mimg2\u001b[0m\u001b[1;33m)\u001b[0m\u001b[1;33m\u001b[0m\u001b[1;33m\u001b[0m\u001b[0m\n\u001b[0m\u001b[0;32m      5\u001b[0m \u001b[1;31m#maximum value element wise from both arrays\u001b[0m\u001b[1;33m\u001b[0m\u001b[1;33m\u001b[0m\u001b[1;33m\u001b[0m\u001b[0m\n\u001b[0;32m      6\u001b[0m \u001b[0mmax\u001b[0m \u001b[1;33m=\u001b[0m \u001b[0mnp\u001b[0m\u001b[1;33m.\u001b[0m\u001b[0mmaximum\u001b[0m\u001b[1;33m(\u001b[0m\u001b[0mimg\u001b[0m\u001b[1;33m,\u001b[0m \u001b[0mimg2\u001b[0m\u001b[1;33m)\u001b[0m\u001b[1;33m\u001b[0m\u001b[1;33m\u001b[0m\u001b[0m\n",
      "\u001b[1;31mValueError\u001b[0m: operands could not be broadcast together with shapes (100,75,2) (258,195,2) "
     ]
    }
   ],
   "source": [
    "import numpy as np\n",
    "nbins = 100\n",
    "#minimum value element wise from both arrays\n",
    "min = np.minimum(img.histogram(), img2.histogram())\n",
    "#maximum value element wise from both arrays\n",
    "max = np.maximum(img.histogram(), img2.histogram())\n",
    "#histogram is build with fixed min and max values\n",
    "hist1, _ = numpy.histogram(img.histogram(),range=(min,max), bins=nbins)\n",
    "hist2, _ = numpy.histogram(img2.histogram(),range=(min,max), bins=nbins)\n",
    "\n",
    "#makes sense to have only positive values \n",
    "diff = np.absolute(hist1 - hist2)\n",
    "\n",
    "print(diff)"
   ]
  },
  {
   "cell_type": "code",
   "execution_count": null,
   "metadata": {},
   "outputs": [],
   "source": []
  }
 ],
 "metadata": {
  "kernelspec": {
   "display_name": "Python 3",
   "language": "python",
   "name": "python3"
  },
  "language_info": {
   "codemirror_mode": {
    "name": "ipython",
    "version": 3
   },
   "file_extension": ".py",
   "mimetype": "text/x-python",
   "name": "python",
   "nbconvert_exporter": "python",
   "pygments_lexer": "ipython3",
   "version": "3.7.4"
  }
 },
 "nbformat": 4,
 "nbformat_minor": 4
}
