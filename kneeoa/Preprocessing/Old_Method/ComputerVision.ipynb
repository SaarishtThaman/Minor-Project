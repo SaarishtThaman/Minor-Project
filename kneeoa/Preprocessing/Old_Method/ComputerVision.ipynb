{
 "cells": [
  {
   "cell_type": "code",
   "execution_count": 27,
   "metadata": {},
   "outputs": [],
   "source": [
    "import cv2\n",
    "\n",
    "def valueAvg(v,row,col):\n",
    "    ans = 0\n",
    "    for i in range(row):\n",
    "        for j in range(col):\n",
    "            ans += v[i,j]\n",
    "    return(ans/(row*col))\n",
    "\n",
    "def makeEqual(sample,img):\n",
    "    sample_hsv = cv2.cvtColor(sample,cv2.COLOR_BGR2HSV)\n",
    "    img_hsv = cv2.cvtColor(img,cv2.COLOR_BGR2HSV)\n",
    "    h_sam,s_sam,v_sam = cv2.split(sample_hsv)\n",
    "    h_img,s_img,v_img = cv2.split(img_hsv)\n",
    "    \n",
    "    row_sam,col_sam = v_sam.shape\n",
    "    row_img,col_img = v_img.shape\n",
    "    val_sample = valueAvg(v_sam,row_sam,col_sam)\n",
    "    val_img = valueAvg(v_img,row_img,col_img)\n",
    "    \n",
    "    final_val = int(val_sample - val_img)\n",
    "    lim = 255 - final_val\n",
    "    v_sam[v_sam > lim] = 255\n",
    "    v_sam[v_sam <= lim] += final_val\n",
    "    \n",
    "    final_hsv = cv2.merge((h_sam, s_sam, v_sam))\n",
    "    final_img = cv2.cvtColor(final_hsv, cv2.COLOR_HSV2BGR)\n",
    "    return final_img\n",
    "    \n",
    "\n",
    "sample = cv2.imread('1.jpg')\n",
    "img = cv2.imread('1_low.jpg')\n",
    "\n",
    "final_img = makeEqual(sample,img)\n",
    "\n",
    "#cv2.imshow('Image',img)\n",
    "#cv2.imshow('Sample',sample)\n",
    "#cv2.imshow('Final Image',final_img)\n",
    "cv2"
   ]
  },
  {
   "cell_type": "code",
   "execution_count": 19,
   "metadata": {},
   "outputs": [
    {
     "name": "stdout",
     "output_type": "stream",
     "text": [
      "(1024, 1024)\n",
      "37.31820869445801\n"
     ]
    },
    {
     "data": {
      "text/plain": [
       "True"
      ]
     },
     "execution_count": 19,
     "metadata": {},
     "output_type": "execute_result"
    }
   ],
   "source": [
    "import cv2\n",
    "import numpy as np\n",
    "np.set_printoptions(threshold=np.inf)\n",
    "\n",
    "def valueSum(v,row,col):\n",
    "    for i in range(row):\n",
    "        for j in range(col):\n",
    "            ans += v[i,j]\n",
    "    return(ans/(row*col))\n",
    "\n",
    "def increase_brightness(img, value=30):\n",
    "    hsv = cv2.cvtColor(img, cv2.COLOR_BGR2HSV)\n",
    "    h, s, v = cv2.split(hsv)\n",
    "    #####\n",
    "    print(v.shape)\n",
    "    row, col = v.shape\n",
    "    ans = valueSum(v,row,col)\n",
    "\n",
    "    lim = 255 - value\n",
    "    v[v > lim] = 255\n",
    "    v[v <= lim] += value\n",
    "    \n",
    "    final_hsv = cv2.merge((h, s, v))\n",
    "    img = cv2.cvtColor(final_hsv, cv2.COLOR_HSV2BGR)\n",
    "    return img\n",
    "\n",
    "\n",
    "img = cv2.imread('2.jpeg') #load rgb image\n",
    "img_final = increase_brightness(img,value=20)\n",
    "#cv2.imshow('Original image',img)\n",
    "#cv2.imshow('Final image', img_final)\n",
    "cv2.imwrite(\"2_processed.jpg\", img_final)"
   ]
  },
  {
   "cell_type": "code",
   "execution_count": 2,
   "metadata": {},
   "outputs": [],
   "source": [
    "import cv2\n",
    "img = cv2.imread('1_low.jpg') #load rgb image\n",
    "hsv = cv2.cvtColor(img, cv2.COLOR_BGR2HSV) #convert it to hsv\n",
    "\n",
    "value = 2\n",
    "hsv[:,:,2] += value\n",
    "\n",
    "img = cv2.cvtColor(hsv, cv2.COLOR_HSV2BGR)\n",
    "cv2.imshow('Original image',img)\n",
    "#cv2.imwrite(\"image_processed.jpg\", img)"
   ]
  },
  {
   "cell_type": "code",
   "execution_count": null,
   "metadata": {},
   "outputs": [],
   "source": [
    "import cv2\n",
    "   \n",
    "image = cv2.imread('1_low.jpg')\n",
    "hsvImage = cv2.cvtColor(image, cv2.COLOR_BGR2HSV)\n",
    " \n",
    "cv2.imshow('Original image',image)\n",
    "cv2.imshow('HSV image', hsvImage)\n",
    "   \n",
    "cv2.waitKey(0)\n",
    "cv2.destroyAllWindows()"
   ]
  },
  {
   "cell_type": "code",
   "execution_count": null,
   "metadata": {
    "scrolled": true
   },
   "outputs": [],
   "source": [
    "import cv2 as cv\n",
    " \n",
    "#img = cv.imread('1.png')\n",
    "src = cv.imread('1_low.png')\n",
    "#print(img)"
   ]
  },
  {
   "cell_type": "code",
   "execution_count": null,
   "metadata": {},
   "outputs": [],
   "source": [
    "src = cv.cvtColor(src, cv.COLOR_BGR2GRAY)\n",
    "#img = cv.cvtColor(img, cv.COLOR_BGR2GRAY)\n",
    "dst = cv.equalizeHist(src)\n"
   ]
  }
 ],
 "metadata": {
  "kernelspec": {
   "display_name": "Python 3",
   "language": "python",
   "name": "python3"
  },
  "language_info": {
   "codemirror_mode": {
    "name": "ipython",
    "version": 3
   },
   "file_extension": ".py",
   "mimetype": "text/x-python",
   "name": "python",
   "nbconvert_exporter": "python",
   "pygments_lexer": "ipython3",
   "version": "3.7.4"
  }
 },
 "nbformat": 4,
 "nbformat_minor": 4
}
